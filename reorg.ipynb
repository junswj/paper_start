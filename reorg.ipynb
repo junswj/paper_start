{
 "cells": [
  {
   "cell_type": "code",
   "execution_count": 1,
   "metadata": {},
   "outputs": [],
   "source": [
    "from Bio import Entrez\n",
    "from sklearn.feature_extraction.text import TfidfVectorizer\n",
    "import pandas as pd\n",
    "\n",
    "pd.set_option('display.max_colwidth', 1000)"
   ]
  },
  {
   "cell_type": "code",
   "execution_count": 2,
   "metadata": {},
   "outputs": [],
   "source": [
    "def search(query):\n",
    "    Entrez.email = 'sxxize@gmail.com'\n",
    "    handle = Entrez.esearch(db='pubmed', \n",
    "                            sort='relevance', \n",
    "                            retmax='1000',\n",
    "                            retmode='xml', \n",
    "                            term=query)\n",
    "    results = Entrez.read(handle)\n",
    "    return results"
   ]
  },
  {
   "cell_type": "code",
   "execution_count": 3,
   "metadata": {},
   "outputs": [],
   "source": [
    "def fetch_details(id_list):\n",
    "    ids = ','.join(id_list)\n",
    "    Entrez.email = 'sxxize@gmail.com'\n",
    "    handle = Entrez.efetch(db='pubmed',\n",
    "                           retmode='xml',\n",
    "                           id=ids)\n",
    "    results = Entrez.read(handle)\n",
    "    return results"
   ]
  },
  {
   "cell_type": "code",
   "execution_count": 4,
   "metadata": {},
   "outputs": [],
   "source": [
    "search_word='fuel cell'"
   ]
  },
  {
   "cell_type": "code",
   "execution_count": 5,
   "metadata": {
    "scrolled": true
   },
   "outputs": [],
   "source": [
    "results = search(search_word)\n",
    "id_list = results['IdList']\n",
    "papers = fetch_details(id_list)"
   ]
  },
  {
   "cell_type": "markdown",
   "metadata": {},
   "source": [
    "# Key Word List"
   ]
  },
  {
   "cell_type": "code",
   "execution_count": 6,
   "metadata": {
    "scrolled": true
   },
   "outputs": [
    {
     "data": {
      "text/plain": [
       "['Carbon brush cylindrical microbial fuel cell',\n",
       " 'Internal resistance',\n",
       " 'Microbial fuel cell',\n",
       " 'P. aeruginosa',\n",
       " 'Polarization curve',\n",
       " 'Power overshoot']"
      ]
     },
     "execution_count": 6,
     "metadata": {},
     "output_type": "execute_result"
    }
   ],
   "source": [
    "[str(i) for i in papers['PubmedArticle'][0]['MedlineCitation']['KeywordList'][0]]"
   ]
  },
  {
   "cell_type": "markdown",
   "metadata": {},
   "source": [
    "# Author List"
   ]
  },
  {
   "cell_type": "code",
   "execution_count": 7,
   "metadata": {},
   "outputs": [],
   "source": [
    "paper_author_lst=[i['MedlineCitation']['Article']['AuthorList'] for i in papers['PubmedArticle']]\n",
    "\n",
    "dfs=[pd.DataFrame(paper_author_lst[i]) for i in range(len(paper_author_lst))]\n",
    "\n",
    "names_dfs=pd.concat(dfs, axis=0, sort=True )\n",
    "\n",
    "author_count_df=names_dfs[['ForeName', 'LastName']].groupby(['ForeName', 'LastName']).size().reset_index(name='count').sort_values(by='count', ascending=False)\n",
    "\n",
    "top=author_count_df.head(10)\n",
    "\n",
    "google_url='https://scholar.google.co.kr/scholar?hl=ko&as_sdt=0%2C5&q='\n",
    "\n",
    "name=top['ForeName']+' '+top['LastName']\n",
    "\n",
    "result=top.reset_index(drop=True).join(pd.DataFrame({'Google Scholar':[google_url+i for i in name.str.replace(' ', '+')+'+review&oq=']}))"
   ]
  },
  {
   "cell_type": "code",
   "execution_count": 8,
   "metadata": {},
   "outputs": [
    {
     "data": {
      "text/html": [
       "<div>\n",
       "<style scoped>\n",
       "    .dataframe tbody tr th:only-of-type {\n",
       "        vertical-align: middle;\n",
       "    }\n",
       "\n",
       "    .dataframe tbody tr th {\n",
       "        vertical-align: top;\n",
       "    }\n",
       "\n",
       "    .dataframe thead th {\n",
       "        text-align: right;\n",
       "    }\n",
       "</style>\n",
       "<table border=\"1\" class=\"dataframe\">\n",
       "  <thead>\n",
       "    <tr style=\"text-align: right;\">\n",
       "      <th></th>\n",
       "      <th>ForeName</th>\n",
       "      <th>LastName</th>\n",
       "      <th>count</th>\n",
       "      <th>Google Scholar</th>\n",
       "    </tr>\n",
       "  </thead>\n",
       "  <tbody>\n",
       "    <tr>\n",
       "      <th>0</th>\n",
       "      <td>Carlo</td>\n",
       "      <td>Santoro</td>\n",
       "      <td>19</td>\n",
       "      <td>https://scholar.google.co.kr/scholar?hl=ko&amp;as_sdt=0%2C5&amp;q=Carlo+Santoro+review&amp;oq=</td>\n",
       "    </tr>\n",
       "    <tr>\n",
       "      <th>1</th>\n",
       "      <td>Plamen</td>\n",
       "      <td>Atanassov</td>\n",
       "      <td>16</td>\n",
       "      <td>https://scholar.google.co.kr/scholar?hl=ko&amp;as_sdt=0%2C5&amp;q=Plamen+Atanassov+review&amp;oq=</td>\n",
       "    </tr>\n",
       "    <tr>\n",
       "      <th>2</th>\n",
       "      <td>Alexey</td>\n",
       "      <td>Serov</td>\n",
       "      <td>16</td>\n",
       "      <td>https://scholar.google.co.kr/scholar?hl=ko&amp;as_sdt=0%2C5&amp;q=Alexey+Serov+review&amp;oq=</td>\n",
       "    </tr>\n",
       "    <tr>\n",
       "      <th>3</th>\n",
       "      <td>Hong</td>\n",
       "      <td>Liu</td>\n",
       "      <td>13</td>\n",
       "      <td>https://scholar.google.co.kr/scholar?hl=ko&amp;as_sdt=0%2C5&amp;q=Hong+Liu+review&amp;oq=</td>\n",
       "    </tr>\n",
       "    <tr>\n",
       "      <th>4</th>\n",
       "      <td>Ioannis</td>\n",
       "      <td>Ieropoulos</td>\n",
       "      <td>13</td>\n",
       "      <td>https://scholar.google.co.kr/scholar?hl=ko&amp;as_sdt=0%2C5&amp;q=Ioannis+Ieropoulos+review&amp;oq=</td>\n",
       "    </tr>\n",
       "    <tr>\n",
       "      <th>5</th>\n",
       "      <td>John</td>\n",
       "      <td>Greenman</td>\n",
       "      <td>12</td>\n",
       "      <td>https://scholar.google.co.kr/scholar?hl=ko&amp;as_sdt=0%2C5&amp;q=John+Greenman+review&amp;oq=</td>\n",
       "    </tr>\n",
       "    <tr>\n",
       "      <th>6</th>\n",
       "      <td>Wei</td>\n",
       "      <td>Zhou</td>\n",
       "      <td>9</td>\n",
       "      <td>https://scholar.google.co.kr/scholar?hl=ko&amp;as_sdt=0%2C5&amp;q=Wei+Zhou+review&amp;oq=</td>\n",
       "    </tr>\n",
       "    <tr>\n",
       "      <th>7</th>\n",
       "      <td>S K</td>\n",
       "      <td>Kamarudin</td>\n",
       "      <td>8</td>\n",
       "      <td>https://scholar.google.co.kr/scholar?hl=ko&amp;as_sdt=0%2C5&amp;q=S+K+Kamarudin+review&amp;oq=</td>\n",
       "    </tr>\n",
       "    <tr>\n",
       "      <th>8</th>\n",
       "      <td>San Ping</td>\n",
       "      <td>Jiang</td>\n",
       "      <td>8</td>\n",
       "      <td>https://scholar.google.co.kr/scholar?hl=ko&amp;as_sdt=0%2C5&amp;q=San+Ping+Jiang+review&amp;oq=</td>\n",
       "    </tr>\n",
       "    <tr>\n",
       "      <th>9</th>\n",
       "      <td>Booki</td>\n",
       "      <td>Min</td>\n",
       "      <td>8</td>\n",
       "      <td>https://scholar.google.co.kr/scholar?hl=ko&amp;as_sdt=0%2C5&amp;q=Booki+Min+review&amp;oq=</td>\n",
       "    </tr>\n",
       "  </tbody>\n",
       "</table>\n",
       "</div>"
      ],
      "text/plain": [
       "   ForeName    LastName  count  \\\n",
       "0     Carlo     Santoro     19   \n",
       "1    Plamen   Atanassov     16   \n",
       "2    Alexey       Serov     16   \n",
       "3      Hong         Liu     13   \n",
       "4   Ioannis  Ieropoulos     13   \n",
       "5      John    Greenman     12   \n",
       "6       Wei        Zhou      9   \n",
       "7       S K   Kamarudin      8   \n",
       "8  San Ping       Jiang      8   \n",
       "9     Booki         Min      8   \n",
       "\n",
       "                                                                            Google Scholar  \n",
       "0       https://scholar.google.co.kr/scholar?hl=ko&as_sdt=0%2C5&q=Carlo+Santoro+review&oq=  \n",
       "1    https://scholar.google.co.kr/scholar?hl=ko&as_sdt=0%2C5&q=Plamen+Atanassov+review&oq=  \n",
       "2        https://scholar.google.co.kr/scholar?hl=ko&as_sdt=0%2C5&q=Alexey+Serov+review&oq=  \n",
       "3            https://scholar.google.co.kr/scholar?hl=ko&as_sdt=0%2C5&q=Hong+Liu+review&oq=  \n",
       "4  https://scholar.google.co.kr/scholar?hl=ko&as_sdt=0%2C5&q=Ioannis+Ieropoulos+review&oq=  \n",
       "5       https://scholar.google.co.kr/scholar?hl=ko&as_sdt=0%2C5&q=John+Greenman+review&oq=  \n",
       "6            https://scholar.google.co.kr/scholar?hl=ko&as_sdt=0%2C5&q=Wei+Zhou+review&oq=  \n",
       "7       https://scholar.google.co.kr/scholar?hl=ko&as_sdt=0%2C5&q=S+K+Kamarudin+review&oq=  \n",
       "8      https://scholar.google.co.kr/scholar?hl=ko&as_sdt=0%2C5&q=San+Ping+Jiang+review&oq=  \n",
       "9           https://scholar.google.co.kr/scholar?hl=ko&as_sdt=0%2C5&q=Booki+Min+review&oq=  "
      ]
     },
     "execution_count": 8,
     "metadata": {},
     "output_type": "execute_result"
    }
   ],
   "source": [
    "result"
   ]
  },
  {
   "cell_type": "code",
   "execution_count": 9,
   "metadata": {},
   "outputs": [
    {
     "name": "stdout",
     "output_type": "stream",
     "text": [
      "                                                                            Google Scholar\n",
      "0       https://scholar.google.co.kr/scholar?hl=ko&as_sdt=0%2C5&q=Carlo+Santoro+review&oq=\n",
      "1    https://scholar.google.co.kr/scholar?hl=ko&as_sdt=0%2C5&q=Plamen+Atanassov+review&oq=\n",
      "2        https://scholar.google.co.kr/scholar?hl=ko&as_sdt=0%2C5&q=Alexey+Serov+review&oq=\n",
      "3            https://scholar.google.co.kr/scholar?hl=ko&as_sdt=0%2C5&q=Hong+Liu+review&oq=\n",
      "4  https://scholar.google.co.kr/scholar?hl=ko&as_sdt=0%2C5&q=Ioannis+Ieropoulos+review&oq=\n",
      "5       https://scholar.google.co.kr/scholar?hl=ko&as_sdt=0%2C5&q=John+Greenman+review&oq=\n",
      "6            https://scholar.google.co.kr/scholar?hl=ko&as_sdt=0%2C5&q=Wei+Zhou+review&oq=\n",
      "7       https://scholar.google.co.kr/scholar?hl=ko&as_sdt=0%2C5&q=S+K+Kamarudin+review&oq=\n",
      "8      https://scholar.google.co.kr/scholar?hl=ko&as_sdt=0%2C5&q=San+Ping+Jiang+review&oq=\n",
      "9           https://scholar.google.co.kr/scholar?hl=ko&as_sdt=0%2C5&q=Booki+Min+review&oq=\n"
     ]
    }
   ],
   "source": [
    "print(pd.DataFrame({'Google Scholar':[google_url+i for i in name.str.replace(' ', '+')+'+review&oq=']}))"
   ]
  },
  {
   "cell_type": "markdown",
   "metadata": {},
   "source": [
    "# Key Words from Title"
   ]
  },
  {
   "cell_type": "code",
   "execution_count": 10,
   "metadata": {},
   "outputs": [],
   "source": [
    "titles=[i['MedlineCitation']['Article']['ArticleTitle'].lower().replace(',','').replace('.','').replace(':', '').replace('?','').replace('<sub>', '').replace('</sub>','').replace('<i>','').replace('</i>','').replace(search_word,'') for i in papers['PubmedArticle']]\n",
    "\n",
    "tfidf=TfidfVectorizer(ngram_range=(2,2),stop_words='english')\n",
    "\n",
    "X=tfidf.fit_transform(titles)\n",
    "\n",
    "tfidf_df=pd.DataFrame(X.todense(), columns=sorted(tfidf.vocabulary_))\n",
    "\n",
    "key_rank=tfidf_df.sum().sort_values(ascending=False)"
   ]
  },
  {
   "cell_type": "code",
   "execution_count": 11,
   "metadata": {},
   "outputs": [
    {
     "data": {
      "text/plain": [
       "solid oxide                  14.399595\n",
       "exchange membrane            10.642937\n",
       "electricity generation       10.300425\n",
       "proton exchange               9.668957\n",
       "polymer electrolyte           8.670652\n",
       "oxygen reduction              7.216754\n",
       "microbial community           6.840843\n",
       "performance microbial         6.668812\n",
       "wastewater treatment          6.550377\n",
       "single chamber                6.477291\n",
       "direct methanol               6.390863\n",
       "air cathode                   6.128711\n",
       "chamber microbial             6.057837\n",
       "high performance              5.963384\n",
       "generation microbial          5.749137\n",
       "temperature solid             5.208095\n",
       "electrolyte membrane          5.097043\n",
       "bioelectricity generation     4.863232\n",
       "cathode microbial             4.855944\n",
       "electricity production        4.520554\n",
       "dtype: float64"
      ]
     },
     "execution_count": 11,
     "metadata": {},
     "output_type": "execute_result"
    }
   ],
   "source": [
    "key_rank[:20]"
   ]
  },
  {
   "cell_type": "code",
   "execution_count": 12,
   "metadata": {},
   "outputs": [
    {
     "data": {
      "text/plain": [
       "characterization electricity    0.408083\n",
       "structure long                  0.408083\n",
       "phototrophic bacteria           0.408021\n",
       "using anoxygenic                0.408021\n",
       "insights photosynthetic         0.408021\n",
       "anoxygenic phototrophic         0.408021\n",
       "validation chromium             0.407935\n",
       "chromium getters                0.407935\n",
       "getters solid                   0.407935\n",
       "development validation          0.407935\n",
       "applications overview           0.407465\n",
       "based nanohybrid                0.407465\n",
       "nanohybrid proton               0.407465\n",
       "study ceria                     0.406627\n",
       "nanocomposite electrolytes      0.406627\n",
       "carbonate nanocomposite         0.406627\n",
       "ceria carbonate                 0.406627\n",
       "temperature pem                 0.405939\n",
       "membranes high                  0.405939\n",
       "electrolysers critical          0.405939\n",
       "dtype: float64"
      ]
     },
     "execution_count": 12,
     "metadata": {},
     "output_type": "execute_result"
    }
   ],
   "source": [
    "key_rank[(key_rank>key_rank.quantile(.75))&(key_rank<key_rank.quantile(.8))][:20]"
   ]
  },
  {
   "cell_type": "markdown",
   "metadata": {},
   "source": [
    "LDA\n",
    "word Vec\n",
    "pyldavis"
   ]
  },
  {
   "cell_type": "markdown",
   "metadata": {},
   "source": [
    "pyldavis"
   ]
  },
  {
   "cell_type": "markdown",
   "metadata": {},
   "source": [
    "textrank\n",
    "lexrank"
   ]
  },
  {
   "cell_type": "code",
   "execution_count": null,
   "metadata": {},
   "outputs": [],
   "source": []
  }
 ],
 "metadata": {
  "kernelspec": {
   "display_name": "Python 3",
   "language": "python",
   "name": "python3"
  },
  "language_info": {
   "codemirror_mode": {
    "name": "ipython",
    "version": 3
   },
   "file_extension": ".py",
   "mimetype": "text/x-python",
   "name": "python",
   "nbconvert_exporter": "python",
   "pygments_lexer": "ipython3",
   "version": "3.7.3"
  }
 },
 "nbformat": 4,
 "nbformat_minor": 2
}
