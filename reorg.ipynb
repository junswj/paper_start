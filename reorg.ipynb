{
 "cells": [
  {
   "cell_type": "code",
   "execution_count": 1,
   "metadata": {},
   "outputs": [],
   "source": [
    "from Bio import Entrez\n",
    "from sklearn.feature_extraction.text import TfidfVectorizer\n",
    "import pandas as pd\n",
    "\n",
    "pd.set_option('display.max_colwidth', 1000)"
   ]
  },
  {
   "cell_type": "code",
   "execution_count": 2,
   "metadata": {},
   "outputs": [],
   "source": [
    "def search(query):\n",
    "    Entrez.email = 'sxxize@gmail.com'\n",
    "    handle = Entrez.esearch(db='pubmed', \n",
    "                            sort='relevance', \n",
    "                            retmax='1000',\n",
    "                            retmode='xml', \n",
    "                            term=query)\n",
    "    results = Entrez.read(handle)\n",
    "    return results"
   ]
  },
  {
   "cell_type": "code",
   "execution_count": 3,
   "metadata": {},
   "outputs": [],
   "source": [
    "def fetch_details(id_list):\n",
    "    ids = ','.join(id_list)\n",
    "    Entrez.email = 'sxxize@gmail.com'\n",
    "    handle = Entrez.efetch(db='pubmed',\n",
    "                           retmode='xml',\n",
    "                           id=ids)\n",
    "    results = Entrez.read(handle)\n",
    "    return results"
   ]
  },
  {
   "cell_type": "code",
   "execution_count": 4,
   "metadata": {},
   "outputs": [],
   "source": [
    "def Author_list(papers):\n",
    "    paper_author_lst=[i['MedlineCitation']['Article']['AuthorList']\\\n",
    "                      for i in papers['PubmedArticle']]\n",
    "    dfs=[pd.DataFrame(paper_author_lst[i]) for i in range(len(paper_author_lst))]\n",
    "    names_dfs=pd.concat(dfs, axis=0, sort=True )\n",
    "    author_count_df=names_dfs[['ForeName', 'LastName']]\\\n",
    "                    .groupby(['ForeName', 'LastName']).size()\\\n",
    "                    .reset_index(name='count').sort_values(by='count', ascending=False)\n",
    "    top=author_count_df.head(10)\n",
    "    google_url='https://scholar.google.co.kr/scholar?hl=ko&as_sdt=0%2C5&q='\n",
    "    name=top['ForeName']+' '+top['LastName']\n",
    "    result=top.reset_index(drop=True).join(pd.DataFrame({'Google Scholar':[google_url+i for i in name.str.replace(' ', '+')+'+review&oq=']}))\n",
    "    \n",
    "    return result"
   ]
  },
  {
   "cell_type": "code",
   "execution_count": 5,
   "metadata": {},
   "outputs": [],
   "source": [
    "def title_key(papers):\n",
    "    titles=[i['MedlineCitation']['Article']['ArticleTitle'].lower()\\\n",
    "            .replace(',','').replace('.','').replace(':', '').replace('?','')\\\n",
    "            .replace('<sub>', '').replace('</sub>','').replace('<i>','').replace('</i>','')\\\n",
    "            .replace(search_word,'') for i in papers['PubmedArticle']]\n",
    "    tfidf=TfidfVectorizer(ngram_range=(2,2),stop_words='english')\n",
    "    X=tfidf.fit_transform(titles)\n",
    "    tfidf_df=pd.DataFrame(X.todense(), columns=sorted(tfidf.vocabulary_))\n",
    "    key_rank=tfidf_df.sum().sort_values(ascending=False)\n",
    "    return key_rank\n"
   ]
  },
  {
   "cell_type": "code",
   "execution_count": 6,
   "metadata": {},
   "outputs": [],
   "source": [
    "search_word='fuel cell'"
   ]
  },
  {
   "cell_type": "code",
   "execution_count": 7,
   "metadata": {
    "scrolled": true
   },
   "outputs": [],
   "source": [
    "results = search(search_word)\n",
    "id_list = results['IdList']\n",
    "papers = fetch_details(id_list)"
   ]
  },
  {
   "cell_type": "markdown",
   "metadata": {},
   "source": [
    "# Author List"
   ]
  },
  {
   "cell_type": "code",
   "execution_count": 9,
   "metadata": {},
   "outputs": [
    {
     "data": {
      "text/html": [
       "<div>\n",
       "<style scoped>\n",
       "    .dataframe tbody tr th:only-of-type {\n",
       "        vertical-align: middle;\n",
       "    }\n",
       "\n",
       "    .dataframe tbody tr th {\n",
       "        vertical-align: top;\n",
       "    }\n",
       "\n",
       "    .dataframe thead th {\n",
       "        text-align: right;\n",
       "    }\n",
       "</style>\n",
       "<table border=\"1\" class=\"dataframe\">\n",
       "  <thead>\n",
       "    <tr style=\"text-align: right;\">\n",
       "      <th></th>\n",
       "      <th>ForeName</th>\n",
       "      <th>LastName</th>\n",
       "      <th>count</th>\n",
       "      <th>Google Scholar</th>\n",
       "    </tr>\n",
       "  </thead>\n",
       "  <tbody>\n",
       "    <tr>\n",
       "      <th>0</th>\n",
       "      <td>Carlo</td>\n",
       "      <td>Santoro</td>\n",
       "      <td>19</td>\n",
       "      <td>https://scholar.google.co.kr/scholar?hl=ko&amp;as_sdt=0%2C5&amp;q=Carlo+Santoro+review&amp;oq=</td>\n",
       "    </tr>\n",
       "    <tr>\n",
       "      <th>1</th>\n",
       "      <td>Plamen</td>\n",
       "      <td>Atanassov</td>\n",
       "      <td>16</td>\n",
       "      <td>https://scholar.google.co.kr/scholar?hl=ko&amp;as_sdt=0%2C5&amp;q=Plamen+Atanassov+review&amp;oq=</td>\n",
       "    </tr>\n",
       "    <tr>\n",
       "      <th>2</th>\n",
       "      <td>Alexey</td>\n",
       "      <td>Serov</td>\n",
       "      <td>16</td>\n",
       "      <td>https://scholar.google.co.kr/scholar?hl=ko&amp;as_sdt=0%2C5&amp;q=Alexey+Serov+review&amp;oq=</td>\n",
       "    </tr>\n",
       "    <tr>\n",
       "      <th>3</th>\n",
       "      <td>Hong</td>\n",
       "      <td>Liu</td>\n",
       "      <td>13</td>\n",
       "      <td>https://scholar.google.co.kr/scholar?hl=ko&amp;as_sdt=0%2C5&amp;q=Hong+Liu+review&amp;oq=</td>\n",
       "    </tr>\n",
       "    <tr>\n",
       "      <th>4</th>\n",
       "      <td>Ioannis</td>\n",
       "      <td>Ieropoulos</td>\n",
       "      <td>13</td>\n",
       "      <td>https://scholar.google.co.kr/scholar?hl=ko&amp;as_sdt=0%2C5&amp;q=Ioannis+Ieropoulos+review&amp;oq=</td>\n",
       "    </tr>\n",
       "    <tr>\n",
       "      <th>5</th>\n",
       "      <td>John</td>\n",
       "      <td>Greenman</td>\n",
       "      <td>12</td>\n",
       "      <td>https://scholar.google.co.kr/scholar?hl=ko&amp;as_sdt=0%2C5&amp;q=John+Greenman+review&amp;oq=</td>\n",
       "    </tr>\n",
       "    <tr>\n",
       "      <th>6</th>\n",
       "      <td>Wei</td>\n",
       "      <td>Zhou</td>\n",
       "      <td>9</td>\n",
       "      <td>https://scholar.google.co.kr/scholar?hl=ko&amp;as_sdt=0%2C5&amp;q=Wei+Zhou+review&amp;oq=</td>\n",
       "    </tr>\n",
       "    <tr>\n",
       "      <th>7</th>\n",
       "      <td>Booki</td>\n",
       "      <td>Min</td>\n",
       "      <td>8</td>\n",
       "      <td>https://scholar.google.co.kr/scholar?hl=ko&amp;as_sdt=0%2C5&amp;q=Booki+Min+review&amp;oq=</td>\n",
       "    </tr>\n",
       "    <tr>\n",
       "      <th>8</th>\n",
       "      <td>Zongping</td>\n",
       "      <td>Shao</td>\n",
       "      <td>8</td>\n",
       "      <td>https://scholar.google.co.kr/scholar?hl=ko&amp;as_sdt=0%2C5&amp;q=Zongping+Shao+review&amp;oq=</td>\n",
       "    </tr>\n",
       "    <tr>\n",
       "      <th>9</th>\n",
       "      <td>S K</td>\n",
       "      <td>Kamarudin</td>\n",
       "      <td>8</td>\n",
       "      <td>https://scholar.google.co.kr/scholar?hl=ko&amp;as_sdt=0%2C5&amp;q=S+K+Kamarudin+review&amp;oq=</td>\n",
       "    </tr>\n",
       "  </tbody>\n",
       "</table>\n",
       "</div>"
      ],
      "text/plain": [
       "   ForeName    LastName  count  \\\n",
       "0     Carlo     Santoro     19   \n",
       "1    Plamen   Atanassov     16   \n",
       "2    Alexey       Serov     16   \n",
       "3      Hong         Liu     13   \n",
       "4   Ioannis  Ieropoulos     13   \n",
       "5      John    Greenman     12   \n",
       "6       Wei        Zhou      9   \n",
       "7     Booki         Min      8   \n",
       "8  Zongping        Shao      8   \n",
       "9       S K   Kamarudin      8   \n",
       "\n",
       "                                                                            Google Scholar  \n",
       "0       https://scholar.google.co.kr/scholar?hl=ko&as_sdt=0%2C5&q=Carlo+Santoro+review&oq=  \n",
       "1    https://scholar.google.co.kr/scholar?hl=ko&as_sdt=0%2C5&q=Plamen+Atanassov+review&oq=  \n",
       "2        https://scholar.google.co.kr/scholar?hl=ko&as_sdt=0%2C5&q=Alexey+Serov+review&oq=  \n",
       "3            https://scholar.google.co.kr/scholar?hl=ko&as_sdt=0%2C5&q=Hong+Liu+review&oq=  \n",
       "4  https://scholar.google.co.kr/scholar?hl=ko&as_sdt=0%2C5&q=Ioannis+Ieropoulos+review&oq=  \n",
       "5       https://scholar.google.co.kr/scholar?hl=ko&as_sdt=0%2C5&q=John+Greenman+review&oq=  \n",
       "6            https://scholar.google.co.kr/scholar?hl=ko&as_sdt=0%2C5&q=Wei+Zhou+review&oq=  \n",
       "7           https://scholar.google.co.kr/scholar?hl=ko&as_sdt=0%2C5&q=Booki+Min+review&oq=  \n",
       "8       https://scholar.google.co.kr/scholar?hl=ko&as_sdt=0%2C5&q=Zongping+Shao+review&oq=  \n",
       "9       https://scholar.google.co.kr/scholar?hl=ko&as_sdt=0%2C5&q=S+K+Kamarudin+review&oq=  "
      ]
     },
     "execution_count": 9,
     "metadata": {},
     "output_type": "execute_result"
    }
   ],
   "source": [
    "result=Author_list(papers)\n",
    "result"
   ]
  },
  {
   "cell_type": "code",
   "execution_count": 10,
   "metadata": {},
   "outputs": [
    {
     "data": {
      "text/plain": [
       "0         https://scholar.google.co.kr/scholar?hl=ko&as_sdt=0%2C5&q=Carlo+Santoro+review&oq=\n",
       "1      https://scholar.google.co.kr/scholar?hl=ko&as_sdt=0%2C5&q=Plamen+Atanassov+review&oq=\n",
       "2          https://scholar.google.co.kr/scholar?hl=ko&as_sdt=0%2C5&q=Alexey+Serov+review&oq=\n",
       "3              https://scholar.google.co.kr/scholar?hl=ko&as_sdt=0%2C5&q=Hong+Liu+review&oq=\n",
       "4    https://scholar.google.co.kr/scholar?hl=ko&as_sdt=0%2C5&q=Ioannis+Ieropoulos+review&oq=\n",
       "5         https://scholar.google.co.kr/scholar?hl=ko&as_sdt=0%2C5&q=John+Greenman+review&oq=\n",
       "6              https://scholar.google.co.kr/scholar?hl=ko&as_sdt=0%2C5&q=Wei+Zhou+review&oq=\n",
       "7             https://scholar.google.co.kr/scholar?hl=ko&as_sdt=0%2C5&q=Booki+Min+review&oq=\n",
       "8         https://scholar.google.co.kr/scholar?hl=ko&as_sdt=0%2C5&q=Zongping+Shao+review&oq=\n",
       "9         https://scholar.google.co.kr/scholar?hl=ko&as_sdt=0%2C5&q=S+K+Kamarudin+review&oq=\n",
       "Name: Google Scholar, dtype: object"
      ]
     },
     "execution_count": 10,
     "metadata": {},
     "output_type": "execute_result"
    }
   ],
   "source": [
    "result['Google Scholar']"
   ]
  },
  {
   "cell_type": "code",
   "execution_count": 11,
   "metadata": {},
   "outputs": [],
   "source": [
    "#print(pd.DataFrame({'Google Scholar':[google_url+i for i in name.str.replace(' ', '+')+'+review&oq=']}))"
   ]
  },
  {
   "cell_type": "markdown",
   "metadata": {},
   "source": [
    "# Key Words from Title"
   ]
  },
  {
   "cell_type": "code",
   "execution_count": 12,
   "metadata": {},
   "outputs": [
    {
     "data": {
      "text/plain": [
       "solid oxide                  14.281854\n",
       "exchange membrane            10.643635\n",
       "electricity generation       10.439862\n",
       "proton exchange               9.669602\n",
       "polymer electrolyte           8.670049\n",
       "oxygen reduction              7.215937\n",
       "microbial community           6.840695\n",
       "performance microbial         6.831341\n",
       "single chamber                6.477852\n",
       "direct methanol               6.390811\n",
       "wastewater treatment          6.200824\n",
       "high performance              6.147326\n",
       "air cathode                   6.129378\n",
       "chamber microbial             6.058198\n",
       "generation microbial          5.749626\n",
       "electrolyte membrane          5.095756\n",
       "temperature solid             5.031403\n",
       "bioelectricity generation     4.862994\n",
       "cathode microbial             4.856460\n",
       "electricity production        4.520390\n",
       "dtype: float64"
      ]
     },
     "execution_count": 12,
     "metadata": {},
     "output_type": "execute_result"
    }
   ],
   "source": [
    "key_rank=title_key(papers)\n",
    "key_rank[:20]"
   ]
  },
  {
   "cell_type": "markdown",
   "metadata": {},
   "source": [
    "# Key Word List"
   ]
  },
  {
   "cell_type": "code",
   "execution_count": 8,
   "metadata": {
    "scrolled": false
   },
   "outputs": [
    {
     "data": {
      "text/plain": [
       "['Carbon brush cylindrical microbial fuel cell',\n",
       " 'Internal resistance',\n",
       " 'Microbial fuel cell',\n",
       " 'P. aeruginosa',\n",
       " 'Polarization curve',\n",
       " 'Power overshoot']"
      ]
     },
     "execution_count": 8,
     "metadata": {},
     "output_type": "execute_result"
    }
   ],
   "source": [
    "[str(i) for i in papers['PubmedArticle'][0]['MedlineCitation']['KeywordList'][0]]"
   ]
  },
  {
   "cell_type": "markdown",
   "metadata": {},
   "source": [
    "LDA\n",
    "word Vec\n",
    "pyldavis\n",
    "\n",
    "pyldavis\n",
    "\n",
    "textrank\n",
    "lexrank"
   ]
  },
  {
   "cell_type": "code",
   "execution_count": 13,
   "metadata": {},
   "outputs": [],
   "source": [
    "# tfidf=TfidfVectorizer(ngram_range=(2,2),stop_words='english')\n",
    "# X=tfidf.fit_transform(titles)\n",
    "# tfidf_df=pd.DataFrame(X.todense(), columns=sorted(tfidf.vocabulary_))\n",
    "# key_rank=tfidf_df.sum().sort_values(ascending=False)"
   ]
  },
  {
   "cell_type": "code",
   "execution_count": 84,
   "metadata": {},
   "outputs": [],
   "source": [
    "key=pd.DataFrame({'key_word':[i['MedlineCitation']['KeywordList'] for i in papers['PubmedArticle']]})"
   ]
  },
  {
   "cell_type": "code",
   "execution_count": 94,
   "metadata": {},
   "outputs": [
    {
     "data": {
      "text/html": [
       "<div>\n",
       "<style scoped>\n",
       "    .dataframe tbody tr th:only-of-type {\n",
       "        vertical-align: middle;\n",
       "    }\n",
       "\n",
       "    .dataframe tbody tr th {\n",
       "        vertical-align: top;\n",
       "    }\n",
       "\n",
       "    .dataframe thead th {\n",
       "        text-align: right;\n",
       "    }\n",
       "</style>\n",
       "<table border=\"1\" class=\"dataframe\">\n",
       "  <thead>\n",
       "    <tr style=\"text-align: right;\">\n",
       "      <th></th>\n",
       "      <th>key_word</th>\n",
       "    </tr>\n",
       "  </thead>\n",
       "  <tbody>\n",
       "    <tr>\n",
       "      <th>0</th>\n",
       "      <td>[[Carbon brush cylindrical microbial fuel cell, Internal resistance, Microbial fuel cell, P. aeruginosa, Polarization curve, Power overshoot]]</td>\n",
       "    </tr>\n",
       "    <tr>\n",
       "      <th>1</th>\n",
       "      <td>[[Nickel-Aluminium layered double hydroxide synthesis, carbon cathode catalyst, fruit waste treatment, low cost energy, microbial fuel cell]]</td>\n",
       "    </tr>\n",
       "    <tr>\n",
       "      <th>2</th>\n",
       "      <td>[[Cathode reaction mechanisms, Electroactive biofilm, Microbial fuel cell, Microbial fuel cell anode, Microbial fuel cell cathode, Microbial fuel cell practical applications]]</td>\n",
       "    </tr>\n",
       "    <tr>\n",
       "      <th>3</th>\n",
       "      <td>[[Electrochemistry, Fuel cell, Gradients, Hydrothermal chimney, Hydrothermal vent]]</td>\n",
       "    </tr>\n",
       "    <tr>\n",
       "      <th>4</th>\n",
       "      <td>[]</td>\n",
       "    </tr>\n",
       "  </tbody>\n",
       "</table>\n",
       "</div>"
      ],
      "text/plain": [
       "                                                                                                                                                                          key_word\n",
       "0                                   [[Carbon brush cylindrical microbial fuel cell, Internal resistance, Microbial fuel cell, P. aeruginosa, Polarization curve, Power overshoot]]\n",
       "1                                    [[Nickel-Aluminium layered double hydroxide synthesis, carbon cathode catalyst, fruit waste treatment, low cost energy, microbial fuel cell]]\n",
       "2  [[Cathode reaction mechanisms, Electroactive biofilm, Microbial fuel cell, Microbial fuel cell anode, Microbial fuel cell cathode, Microbial fuel cell practical applications]]\n",
       "3                                                                                              [[Electrochemistry, Fuel cell, Gradients, Hydrothermal chimney, Hydrothermal vent]]\n",
       "4                                                                                                                                                                               []"
      ]
     },
     "execution_count": 94,
     "metadata": {},
     "output_type": "execute_result"
    }
   ],
   "source": [
    "key.head()"
   ]
  },
  {
   "cell_type": "code",
   "execution_count": 95,
   "metadata": {},
   "outputs": [],
   "source": [
    "x=pd.DataFrame({'x':sum(sum([i['MedlineCitation']['KeywordList'] for i in papers['PubmedArticle']],[]),[])})"
   ]
  },
  {
   "cell_type": "code",
   "execution_count": 104,
   "metadata": {},
   "outputs": [
    {
     "data": {
      "text/plain": [
       "microbial fuel cell                        271\n",
       "microbial fuel cells                        90\n",
       "fuel cells                                  85\n",
       "oxygen reduction reaction                   41\n",
       "wastewater treatment                        38\n",
       "electricity generation                      32\n",
       "fuel cell                                   31\n",
       "microbial community                         30\n",
       "electrochemistry                            23\n",
       "solid oxide fuel cells                      23\n",
       "power density                               21\n",
       "power generation                            21\n",
       "biosensor                                   20\n",
       "microbial fuel cell (mfc)                   20\n",
       "electrocatalysis                            19\n",
       "anode                                       19\n",
       "solid oxide fuel cell                       18\n",
       "bioelectricity                              18\n",
       "direct methanol fuel cell                   17\n",
       "extracellular electron transfer             14\n",
       "graphene                                    14\n",
       "electricity production                      13\n",
       "degradation                                 13\n",
       "biofilm                                     13\n",
       "photocatalytic fuel cell                    13\n",
       "cathode                                     13\n",
       "biocathode                                  12\n",
       "platinum                                    12\n",
       "constructed wetland                         11\n",
       "oxygen reduction                            11\n",
       "                                          ... \n",
       "yttrium-doped barium cerate−zirconate        1\n",
       "congo red                                    1\n",
       "rotating ring disk electrode                 1\n",
       "seals                                        1\n",
       "gpcr, g-protein coupled receptor             1\n",
       "noncarbon catalyst supports                  1\n",
       "enzyme electrodes                            1\n",
       "activation overpotential                     1\n",
       "hydrothermal vent                            1\n",
       "humic acid                                   1\n",
       "transient operation                          1\n",
       "cod and nutrient removal                     1\n",
       "low-temperature performance                  1\n",
       "pee power®                                   1\n",
       "stainless steel anode                        1\n",
       "potential burst                              1\n",
       "direct methanol fuel cell (dmfc)             1\n",
       "anaerobic fluidized membrane bioreactor      1\n",
       "support media                                1\n",
       "fuel oxidation                               1\n",
       "parallel                                     1\n",
       "green foxtail                                1\n",
       "solvent                                      1\n",
       "organic pollutants treatment                 1\n",
       "beneficial effect                            1\n",
       "hsc                                          1\n",
       "power                                        1\n",
       "oxygen-reduction-reaction catalysts          1\n",
       "pid controller                               1\n",
       "architectural design                         1\n",
       "Name: x, Length: 2600, dtype: int64"
      ]
     },
     "execution_count": 104,
     "metadata": {},
     "output_type": "execute_result"
    }
   ],
   "source": [
    "x.x.str.lower().value_counts()"
   ]
  },
  {
   "cell_type": "code",
   "execution_count": 121,
   "metadata": {},
   "outputs": [
    {
     "data": {
      "text/plain": [
       "4397"
      ]
     },
     "execution_count": 121,
     "metadata": {},
     "output_type": "execute_result"
    }
   ],
   "source": [
    "len(list(itertools.chain.from_iterable(list(itertools.chain.from_iterable(l)))))"
   ]
  },
  {
   "cell_type": "code",
   "execution_count": null,
   "metadata": {},
   "outputs": [],
   "source": []
  }
 ],
 "metadata": {
  "kernelspec": {
   "display_name": "Python 3",
   "language": "python",
   "name": "python3"
  },
  "language_info": {
   "codemirror_mode": {
    "name": "ipython",
    "version": 3
   },
   "file_extension": ".py",
   "mimetype": "text/x-python",
   "name": "python",
   "nbconvert_exporter": "python",
   "pygments_lexer": "ipython3",
   "version": "3.7.3"
  }
 },
 "nbformat": 4,
 "nbformat_minor": 2
}
