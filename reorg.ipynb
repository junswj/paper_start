{
 "cells": [
  {
   "cell_type": "markdown",
   "metadata": {},
   "source": [
    "# Research Paper Recommender"
   ]
  },
  {
   "cell_type": "markdown",
   "metadata": {},
   "source": [
    "### :Review article recommender using PubMed API and Key word exraction from article titles using TF-IDF"
   ]
  },
  {
   "cell_type": "markdown",
   "metadata": {},
   "source": [
    "During my research period, I have been switching my research topic very frequently, so I know how much the pain involves whenever they had to restart studying on the new field. Thus, I am currently developing the educational platform for junior researchers who just started research, using paper and keyword recommender system."
   ]
  },
  {
   "cell_type": "markdown",
   "metadata": {},
   "source": [
    "**Keyword recommendation:** Problem of current research article search engine is providing the keywords based on the keywords provided by article author, and mostly the one-word synonyms. I developed the keyword recommender using texts from titles and abstracts. Proper usage of ngram and TF-IDF provided intuitive keywords which gives information what to look up for the study."
   ]
  },
  {
   "cell_type": "markdown",
   "metadata": {},
   "source": [
    "**Paper recommendation:** Best way to learn new field is reading a good review article written by leading scientist in the field. Problem of finding the article by citation number is this will be highly biased towards the date of publication. First article published in the field gets most citation. This recommender provides list of review articles of most active researchers, based on publication number and citation recently, and displays most recently reviews by analyzing PubMed database. "
   ]
  },
  {
   "cell_type": "markdown",
   "metadata": {},
   "source": [
    "Currently working on the building a database using searched keywords and develop abstract analyzer"
   ]
  },
  {
   "cell_type": "markdown",
   "metadata": {},
   "source": [
    "# Importing Packages and Functions"
   ]
  },
  {
   "cell_type": "code",
   "execution_count": 1,
   "metadata": {},
   "outputs": [],
   "source": [
    "from Bio import Entrez\n",
    "from sklearn.feature_extraction.text import TfidfVectorizer\n",
    "import pandas as pd\n",
    "import itertools\n",
    "\n",
    "pd.set_option('display.max_colwidth', 1000)"
   ]
  },
  {
   "cell_type": "code",
   "execution_count": 2,
   "metadata": {},
   "outputs": [],
   "source": [
    "def search(keyword):\n",
    "    '''\n",
    "    returns IDList of research articles related the keyword\n",
    "    \n",
    "    Arg:\n",
    "        keyword (str): keyword of the interest\n",
    "        \n",
    "    return:\n",
    "        IDList (Dict): List of publication IDs related to the keywords\n",
    "    '''\n",
    "    Entrez.email = 'sxxize@gmail.com'\n",
    "    handle = Entrez.esearch(db='pubmed', \n",
    "                            sort='relevance', \n",
    "                            retmax='1000',\n",
    "                            retmode='xml', \n",
    "                            term=keyword)\n",
    "    IDList = Entrez.read(handle)\n",
    "    return IDList"
   ]
  },
  {
   "cell_type": "code",
   "execution_count": 3,
   "metadata": {},
   "outputs": [],
   "source": [
    "def fetch_details(id_list):\n",
    "    ids = ','.join(id_list)\n",
    "    Entrez.email = 'sxxize@gmail.com'\n",
    "    handle = Entrez.efetch(db='pubmed',\n",
    "                           retmode='xml',\n",
    "                           id=ids)\n",
    "    results = Entrez.read(handle)\n",
    "    return results"
   ]
  },
  {
   "cell_type": "code",
   "execution_count": 4,
   "metadata": {},
   "outputs": [],
   "source": [
    "def Author_list(papers):\n",
    "    paper_author_lst=[i['MedlineCitation']['Article']['AuthorList']\\\n",
    "                      for i in papers['PubmedArticle']]\n",
    "    dfs=[pd.DataFrame(paper_author_lst[i]) for i in range(len(paper_author_lst))]\n",
    "    names_dfs=pd.concat(dfs, axis=0, sort=True )\n",
    "    author_count_df=names_dfs[['ForeName', 'LastName']]\\\n",
    "                    .groupby(['ForeName', 'LastName']).size()\\\n",
    "                    .reset_index(name='count').sort_values(by='count', ascending=False)\n",
    "    top=author_count_df.head(10)\n",
    "    google_url='https://scholar.google.co.kr/scholar?hl=ko&as_sdt=0%2C5&q='\n",
    "    name=top['ForeName']+' '+top['LastName']\n",
    "    result=top.reset_index(drop=True).join(pd.DataFrame({'Google Scholar':[google_url+i for i in name.str.replace(' ', '+')+'+review&oq=']}))\n",
    "    \n",
    "    return result"
   ]
  },
  {
   "cell_type": "code",
   "execution_count": 5,
   "metadata": {},
   "outputs": [],
   "source": [
    "def key_from_papers(papers):\n",
    "    fetch_key_word_papers=[i['MedlineCitation']['KeywordList'] for i in papers['PubmedArticle']]\n",
    "    lst_key_papers=list(itertools.chain.from_iterable(list(itertools.chain.from_iterable(fetch_key_word_papers))))\n",
    "    key_from_paper=pd.DataFrame({'key word from papers':lst_key_papers})\n",
    "    key_word=key_from_paper['key word from papers'].str.lower()\n",
    "    return key_word"
   ]
  },
  {
   "cell_type": "code",
   "execution_count": 6,
   "metadata": {},
   "outputs": [],
   "source": [
    "def title_key(papers):\n",
    "    titles=[i['MedlineCitation']['Article']['ArticleTitle'].lower()\\\n",
    "            .replace(',','').replace('.','').replace(':', '').replace('?','')\\\n",
    "            .replace('<sub>', '').replace('</sub>','').replace('<sup>','').replace('</sup>','')\\\n",
    "            .replace('<i>','').replace('</i>','')\\\n",
    "            .replace(search_word.lower(),'') for i in papers['PubmedArticle']]\n",
    "    tfidf=TfidfVectorizer(ngram_range=(2,2),stop_words='english')\n",
    "    X=tfidf.fit_transform(titles)\n",
    "    tfidf_df=pd.DataFrame(X.todense(), columns=sorted(tfidf.vocabulary_))\n",
    "    key_rank=tfidf_df.sum().sort_values(ascending=False)\n",
    "    \n",
    "    return key_rank\n"
   ]
  },
  {
   "cell_type": "code",
   "execution_count": 7,
   "metadata": {},
   "outputs": [],
   "source": [
    "def Abstract_key(papers):\n",
    "    abstract_key=[]\n",
    "    for i in papers['PubmedArticle']:\n",
    "        try:\n",
    "            abstract_key.append(i['MedlineCitation']['Article']['Abstract']['AbstractText'][0].lower()\\\n",
    "            .replace(',','').replace('.','').replace(':', '').replace('?','')\\\n",
    "            .replace('<sub>', '').replace('</sub>','').replace('<sup>','').replace('</sup>','')\\\n",
    "            .replace('<i>','').replace('</i>','').replace(search_word.lower(),''))\n",
    "        except:\n",
    "            continue\n",
    "    tfidf=TfidfVectorizer(ngram_range=(2,2),stop_words='english')\n",
    "    X=tfidf.fit_transform(abstract_key)\n",
    "    tfidf_df=pd.DataFrame(X.todense(), columns=sorted(tfidf.vocabulary_))\n",
    "    key_rank=tfidf_df.sum().sort_values(ascending=False)\n",
    "    \n",
    "    return key_rank"
   ]
  },
  {
   "cell_type": "code",
   "execution_count": 8,
   "metadata": {},
   "outputs": [],
   "source": [
    "search_word='bioactive'"
   ]
  },
  {
   "cell_type": "code",
   "execution_count": 9,
   "metadata": {
    "scrolled": true
   },
   "outputs": [],
   "source": [
    "results = search(search_word)\n",
    "id_list = results['IdList']\n",
    "papers = fetch_details(id_list)"
   ]
  },
  {
   "cell_type": "markdown",
   "metadata": {},
   "source": [
    "# Author List"
   ]
  },
  {
   "cell_type": "code",
   "execution_count": 10,
   "metadata": {
    "scrolled": true
   },
   "outputs": [
    {
     "data": {
      "text/html": [
       "<div>\n",
       "<style scoped>\n",
       "    .dataframe tbody tr th:only-of-type {\n",
       "        vertical-align: middle;\n",
       "    }\n",
       "\n",
       "    .dataframe tbody tr th {\n",
       "        vertical-align: top;\n",
       "    }\n",
       "\n",
       "    .dataframe thead th {\n",
       "        text-align: right;\n",
       "    }\n",
       "</style>\n",
       "<table border=\"1\" class=\"dataframe\">\n",
       "  <thead>\n",
       "    <tr style=\"text-align: right;\">\n",
       "      <th></th>\n",
       "      <th>ForeName</th>\n",
       "      <th>LastName</th>\n",
       "      <th>count</th>\n",
       "      <th>Google Scholar</th>\n",
       "    </tr>\n",
       "  </thead>\n",
       "  <tbody>\n",
       "    <tr>\n",
       "      <th>0</th>\n",
       "      <td>Aldo R</td>\n",
       "      <td>Boccaccini</td>\n",
       "      <td>32</td>\n",
       "      <td>https://scholar.google.co.kr/scholar?hl=ko&amp;as_sdt=0%2C5&amp;q=Aldo+R+Boccaccini+review&amp;oq=</td>\n",
       "    </tr>\n",
       "    <tr>\n",
       "      <th>1</th>\n",
       "      <td>Francesco</td>\n",
       "      <td>Baino</td>\n",
       "      <td>11</td>\n",
       "      <td>https://scholar.google.co.kr/scholar?hl=ko&amp;as_sdt=0%2C5&amp;q=Francesco+Baino+review&amp;oq=</td>\n",
       "    </tr>\n",
       "    <tr>\n",
       "      <th>2</th>\n",
       "      <td>Mohamed N</td>\n",
       "      <td>Rahaman</td>\n",
       "      <td>10</td>\n",
       "      <td>https://scholar.google.co.kr/scholar?hl=ko&amp;as_sdt=0%2C5&amp;q=Mohamed+N+Rahaman+review&amp;oq=</td>\n",
       "    </tr>\n",
       "    <tr>\n",
       "      <th>3</th>\n",
       "      <td>Jiang</td>\n",
       "      <td>Chang</td>\n",
       "      <td>10</td>\n",
       "      <td>https://scholar.google.co.kr/scholar?hl=ko&amp;as_sdt=0%2C5&amp;q=Jiang+Chang+review&amp;oq=</td>\n",
       "    </tr>\n",
       "    <tr>\n",
       "      <th>4</th>\n",
       "      <td>Julian R</td>\n",
       "      <td>Jones</td>\n",
       "      <td>9</td>\n",
       "      <td>https://scholar.google.co.kr/scholar?hl=ko&amp;as_sdt=0%2C5&amp;q=Julian+R+Jones+review&amp;oq=</td>\n",
       "    </tr>\n",
       "    <tr>\n",
       "      <th>5</th>\n",
       "      <td>Chengtie</td>\n",
       "      <td>Wu</td>\n",
       "      <td>9</td>\n",
       "      <td>https://scholar.google.co.kr/scholar?hl=ko&amp;as_sdt=0%2C5&amp;q=Chengtie+Wu+review&amp;oq=</td>\n",
       "    </tr>\n",
       "    <tr>\n",
       "      <th>6</th>\n",
       "      <td>Wenhai</td>\n",
       "      <td>Huang</td>\n",
       "      <td>9</td>\n",
       "      <td>https://scholar.google.co.kr/scholar?hl=ko&amp;as_sdt=0%2C5&amp;q=Wenhai+Huang+review&amp;oq=</td>\n",
       "    </tr>\n",
       "    <tr>\n",
       "      <th>7</th>\n",
       "      <td>Bo</td>\n",
       "      <td>Lei</td>\n",
       "      <td>7</td>\n",
       "      <td>https://scholar.google.co.kr/scholar?hl=ko&amp;as_sdt=0%2C5&amp;q=Bo+Lei+review&amp;oq=</td>\n",
       "    </tr>\n",
       "    <tr>\n",
       "      <th>8</th>\n",
       "      <td>Saeid</td>\n",
       "      <td>Kargozar</td>\n",
       "      <td>7</td>\n",
       "      <td>https://scholar.google.co.kr/scholar?hl=ko&amp;as_sdt=0%2C5&amp;q=Saeid+Kargozar+review&amp;oq=</td>\n",
       "    </tr>\n",
       "    <tr>\n",
       "      <th>9</th>\n",
       "      <td>Xiaofeng</td>\n",
       "      <td>Chen</td>\n",
       "      <td>7</td>\n",
       "      <td>https://scholar.google.co.kr/scholar?hl=ko&amp;as_sdt=0%2C5&amp;q=Xiaofeng+Chen+review&amp;oq=</td>\n",
       "    </tr>\n",
       "  </tbody>\n",
       "</table>\n",
       "</div>"
      ],
      "text/plain": [
       "    ForeName    LastName  count  \\\n",
       "0     Aldo R  Boccaccini     32   \n",
       "1  Francesco       Baino     11   \n",
       "2  Mohamed N     Rahaman     10   \n",
       "3      Jiang       Chang     10   \n",
       "4   Julian R       Jones      9   \n",
       "5   Chengtie          Wu      9   \n",
       "6     Wenhai       Huang      9   \n",
       "7         Bo         Lei      7   \n",
       "8      Saeid    Kargozar      7   \n",
       "9   Xiaofeng        Chen      7   \n",
       "\n",
       "                                                                           Google Scholar  \n",
       "0  https://scholar.google.co.kr/scholar?hl=ko&as_sdt=0%2C5&q=Aldo+R+Boccaccini+review&oq=  \n",
       "1    https://scholar.google.co.kr/scholar?hl=ko&as_sdt=0%2C5&q=Francesco+Baino+review&oq=  \n",
       "2  https://scholar.google.co.kr/scholar?hl=ko&as_sdt=0%2C5&q=Mohamed+N+Rahaman+review&oq=  \n",
       "3        https://scholar.google.co.kr/scholar?hl=ko&as_sdt=0%2C5&q=Jiang+Chang+review&oq=  \n",
       "4     https://scholar.google.co.kr/scholar?hl=ko&as_sdt=0%2C5&q=Julian+R+Jones+review&oq=  \n",
       "5        https://scholar.google.co.kr/scholar?hl=ko&as_sdt=0%2C5&q=Chengtie+Wu+review&oq=  \n",
       "6       https://scholar.google.co.kr/scholar?hl=ko&as_sdt=0%2C5&q=Wenhai+Huang+review&oq=  \n",
       "7             https://scholar.google.co.kr/scholar?hl=ko&as_sdt=0%2C5&q=Bo+Lei+review&oq=  \n",
       "8     https://scholar.google.co.kr/scholar?hl=ko&as_sdt=0%2C5&q=Saeid+Kargozar+review&oq=  \n",
       "9      https://scholar.google.co.kr/scholar?hl=ko&as_sdt=0%2C5&q=Xiaofeng+Chen+review&oq=  "
      ]
     },
     "execution_count": 10,
     "metadata": {},
     "output_type": "execute_result"
    }
   ],
   "source": [
    "result=Author_list(papers)\n",
    "result"
   ]
  },
  {
   "cell_type": "code",
   "execution_count": 11,
   "metadata": {},
   "outputs": [
    {
     "data": {
      "text/plain": [
       "0    https://scholar.google.co.kr/scholar?hl=ko&as_sdt=0%2C5&q=Aldo+R+Boccaccini+review&oq=\n",
       "1      https://scholar.google.co.kr/scholar?hl=ko&as_sdt=0%2C5&q=Francesco+Baino+review&oq=\n",
       "2    https://scholar.google.co.kr/scholar?hl=ko&as_sdt=0%2C5&q=Mohamed+N+Rahaman+review&oq=\n",
       "3          https://scholar.google.co.kr/scholar?hl=ko&as_sdt=0%2C5&q=Jiang+Chang+review&oq=\n",
       "4       https://scholar.google.co.kr/scholar?hl=ko&as_sdt=0%2C5&q=Julian+R+Jones+review&oq=\n",
       "5          https://scholar.google.co.kr/scholar?hl=ko&as_sdt=0%2C5&q=Chengtie+Wu+review&oq=\n",
       "6         https://scholar.google.co.kr/scholar?hl=ko&as_sdt=0%2C5&q=Wenhai+Huang+review&oq=\n",
       "7               https://scholar.google.co.kr/scholar?hl=ko&as_sdt=0%2C5&q=Bo+Lei+review&oq=\n",
       "8       https://scholar.google.co.kr/scholar?hl=ko&as_sdt=0%2C5&q=Saeid+Kargozar+review&oq=\n",
       "9        https://scholar.google.co.kr/scholar?hl=ko&as_sdt=0%2C5&q=Xiaofeng+Chen+review&oq=\n",
       "Name: Google Scholar, dtype: object"
      ]
     },
     "execution_count": 11,
     "metadata": {},
     "output_type": "execute_result"
    }
   ],
   "source": [
    "result['Google Scholar']"
   ]
  },
  {
   "cell_type": "markdown",
   "metadata": {},
   "source": [
    "# Key Word List"
   ]
  },
  {
   "cell_type": "code",
   "execution_count": 12,
   "metadata": {
    "scrolled": true
   },
   "outputs": [],
   "source": [
    "key_paper_lst=key_from_papers(papers)"
   ]
  },
  {
   "cell_type": "code",
   "execution_count": 13,
   "metadata": {},
   "outputs": [
    {
     "data": {
      "text/plain": [
       "bioactive glass            141\n",
       "bioactive compounds        117\n",
       "bioactive peptides          54\n",
       "bone regeneration           33\n",
       "bioactivity                 31\n",
       "antioxidant activity        24\n",
       "scaffold                    23\n",
       "bioactive glasses           21\n",
       "bioactive                   21\n",
       "strontium                   19\n",
       "antioxidant                 19\n",
       "angiogenesis                19\n",
       "tissue engineering          18\n",
       "bioactive peptide           18\n",
       "cytotoxicity                17\n",
       "scaffolds                   16\n",
       "osteogenesis                16\n",
       "bone tissue engineering     16\n",
       "hydroxyapatite              15\n",
       "mechanical properties       15\n",
       "Name: key word from papers, dtype: int64"
      ]
     },
     "execution_count": 13,
     "metadata": {},
     "output_type": "execute_result"
    }
   ],
   "source": [
    "key_paper_lst.value_counts().head(20)"
   ]
  },
  {
   "cell_type": "markdown",
   "metadata": {},
   "source": [
    "# Key Words from Title"
   ]
  },
  {
   "cell_type": "code",
   "execution_count": 14,
   "metadata": {
    "scrolled": false
   },
   "outputs": [
    {
     "data": {
      "text/plain": [
       "tissue engineering       7.417992\n",
       "bone tissue              5.607841\n",
       "bone regeneration        5.450799\n",
       "antioxidant activity     5.032738\n",
       "mesoporous glass         4.910455\n",
       "mass spectrometry        4.581099\n",
       "derived peptides         4.420087\n",
       "glass scaffolds          4.288243\n",
       "compounds antioxidant    4.111015\n",
       "glass nanoparticles      3.960329\n",
       "extraction compounds     3.715036\n",
       "scaffolds bone           3.528700\n",
       "stem cells               3.462760\n",
       "liquid chromatography    3.339055\n",
       "natural products         3.333138\n",
       "glass based              3.149500\n",
       "mechanical properties    2.951756\n",
       "containing glass         2.929588\n",
       "ultrasound assisted      2.790998\n",
       "composite scaffolds      2.787438\n",
       "dtype: float64"
      ]
     },
     "execution_count": 14,
     "metadata": {},
     "output_type": "execute_result"
    }
   ],
   "source": [
    "key_title=title_key(papers)\n",
    "key_title[:20]"
   ]
  },
  {
   "cell_type": "markdown",
   "metadata": {},
   "source": [
    "# Key Words from Abstract"
   ]
  },
  {
   "cell_type": "code",
   "execution_count": 15,
   "metadata": {},
   "outputs": [],
   "source": [
    "key_abstract=Abstract_key(papers)"
   ]
  },
  {
   "cell_type": "code",
   "execution_count": 16,
   "metadata": {
    "scrolled": true
   },
   "outputs": [
    {
     "data": {
      "text/plain": [
       "tissue engineering       4.658340\n",
       "antioxidant activity     4.457270\n",
       "bone regeneration        4.260426\n",
       "bone tissue              4.049353\n",
       "mechanical properties    3.919373\n",
       "body fluid               3.415262\n",
       "anti inflammatory        3.392061\n",
       "present study            3.295148\n",
       "simulated body           3.247039\n",
       "aim study                3.155415\n",
       "sol gel                  3.086395\n",
       "stem cells               3.070674\n",
       "glass nanoparticles      2.935242\n",
       "bone defects             2.842446\n",
       "fatty acids              2.805165\n",
       "liquid chromatography    2.730369\n",
       "natural products         2.712168\n",
       "mass spectrometry        2.655713\n",
       "phenolic compounds       2.565135\n",
       "scanning electron        2.487904\n",
       "dtype: float64"
      ]
     },
     "execution_count": 16,
     "metadata": {},
     "output_type": "execute_result"
    }
   ],
   "source": [
    "key_abstract[:20]"
   ]
  },
  {
   "cell_type": "code",
   "execution_count": 18,
   "metadata": {},
   "outputs": [
    {
     "data": {
      "text/plain": [
       "Bio.Entrez.Parser.DictionaryElement"
      ]
     },
     "execution_count": 18,
     "metadata": {},
     "output_type": "execute_result"
    }
   ],
   "source": [
    "type(results)"
   ]
  },
  {
   "cell_type": "markdown",
   "metadata": {},
   "source": [
    "LDA\n",
    "word Vec\n",
    "pyldavis\n",
    "\n",
    "pyldavis\n",
    "\n",
    "textrank\n",
    "lexrank"
   ]
  }
 ],
 "metadata": {
  "kernelspec": {
   "display_name": "Python 3",
   "language": "python",
   "name": "python3"
  },
  "language_info": {
   "codemirror_mode": {
    "name": "ipython",
    "version": 3
   },
   "file_extension": ".py",
   "mimetype": "text/x-python",
   "name": "python",
   "nbconvert_exporter": "python",
   "pygments_lexer": "ipython3",
   "version": "3.7.3"
  }
 },
 "nbformat": 4,
 "nbformat_minor": 2
}
