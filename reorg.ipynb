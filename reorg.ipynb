{
 "cells": [
  {
   "cell_type": "markdown",
   "metadata": {},
   "source": [
    "# Research Paper Recommender"
   ]
  },
  {
   "cell_type": "markdown",
   "metadata": {},
   "source": [
    "### :Review article recommender using PubMed API and Key word exraction from article titles using TF-IDF"
   ]
  },
  {
   "cell_type": "markdown",
   "metadata": {},
   "source": [
    "During my research period, I have been switching my research topic very frequently, so I know how much the pain involves whenever they had to restart studying on the new field. Thus, I am currently developing the educational platform for junior researchers who just started research, using paper and keyword recommender system."
   ]
  },
  {
   "cell_type": "markdown",
   "metadata": {},
   "source": [
    "**Keyword recommendation:** Problem of current research article search engine is providing the keywords based on the keywords provided by article author, and mostly the one-word synonyms. I developed the keyword recommender using texts from titles and abstracts. Proper usage of ngram and TF-IDF provided intuitive keywords which gives information what to look up for the study."
   ]
  },
  {
   "cell_type": "markdown",
   "metadata": {},
   "source": [
    "**Paper recommendation:** Best way to learn new field is reading a good review article written by leading scientist in the field. Problem of finding the article by citation number is this will be highly biased towards the date of publication. First article published in the field gets most citation. This recommender provides list of review articles of most active researchers, based on publication number and citation recently, and displays most recently reviews by analyzing PubMed database. "
   ]
  },
  {
   "cell_type": "markdown",
   "metadata": {},
   "source": [
    "Currently working on the building a database using searched keywords and develop abstract analyzer"
   ]
  },
  {
   "cell_type": "markdown",
   "metadata": {},
   "source": [
    "# Importing Packages and Functions"
   ]
  },
  {
   "cell_type": "code",
   "execution_count": 1,
   "metadata": {},
   "outputs": [],
   "source": [
    "from Bio import Entrez\n",
    "from sklearn.feature_extraction.text import TfidfVectorizer\n",
    "import pandas as pd\n",
    "import itertools\n",
    "\n",
    "pd.set_option('display.max_colwidth', 1000)"
   ]
  },
  {
   "cell_type": "code",
   "execution_count": 2,
   "metadata": {},
   "outputs": [],
   "source": [
    "def search(keyword):\n",
    "    '''\n",
    "    returns IDList of research articles related the keyword\n",
    "    \n",
    "    Arg:\n",
    "        keyword (str): keyword of the interest\n",
    "        \n",
    "    return:\n",
    "        IDList (Dict): List of publication IDs related to the keywords\n",
    "    '''\n",
    "    \n",
    "    Entrez.email = 'sxxize@gmail.com'\n",
    "    handle = Entrez.esearch(db='pubmed', \n",
    "                            sort='relevance', \n",
    "                            retmax='1000',\n",
    "                            retmode='xml', \n",
    "                            term=keyword)\n",
    "    IDList = Entrez.read(handle)\n",
    "    return IDList"
   ]
  },
  {
   "cell_type": "code",
   "execution_count": 3,
   "metadata": {},
   "outputs": [],
   "source": [
    "def fetch_details(id_list):\n",
    "    '''\n",
    "    returns article information from pubmed\n",
    "    \n",
    "    Arg: \n",
    "        id_list (dict): id list of publications returned from serach function\n",
    "        \n",
    "    return:\n",
    "        results (dict): full information of articles \n",
    "    '''\n",
    "    ids = ','.join(id_list)\n",
    "    Entrez.email = 'sxxize@gmail.com'\n",
    "    handle = Entrez.efetch(db='pubmed',\n",
    "                           retmode='xml',\n",
    "                           id=ids)\n",
    "    results = Entrez.read(handle)\n",
    "    return results"
   ]
  },
  {
   "cell_type": "code",
   "execution_count": 4,
   "metadata": {},
   "outputs": [],
   "source": [
    "def Author_list(papers):\n",
    "    \n",
    "    paper_author_lst=[i['MedlineCitation']['Article']['AuthorList']\\\n",
    "                      for i in papers['PubmedArticle']]\n",
    "    dfs=[pd.DataFrame(paper_author_lst[i]) for i in range(len(paper_author_lst))]\n",
    "    names_dfs=pd.concat(dfs, axis=0, sort=True )\n",
    "    author_count_df=names_dfs[['ForeName', 'LastName']]\\\n",
    "                    .groupby(['ForeName', 'LastName']).size()\\\n",
    "                    .reset_index(name='count').sort_values(by='count', ascending=False)\n",
    "    top=author_count_df.head(10)\n",
    "    google_url='https://scholar.google.co.kr/scholar?hl=ko&as_sdt=0%2C5&q='\n",
    "    name=top['ForeName']+' '+top['LastName']\n",
    "    result=top.reset_index(drop=True).join(pd.DataFrame({'Google Scholar':[google_url+i for i in name.str.replace(' ', '+')+'+review&oq=']}))\n",
    "    \n",
    "    return result"
   ]
  },
  {
   "cell_type": "code",
   "execution_count": 5,
   "metadata": {},
   "outputs": [],
   "source": [
    "def key_from_papers(papers):\n",
    "    '''\n",
    "    extracting key words provided by the authors\n",
    "    \n",
    "    Arg:\n",
    "        papers (dict): full information of articles\n",
    "        \n",
    "    return:\n",
    "        key_word (Pandas Series): list of key words\n",
    "    '''\n",
    "    fetch_key_word_papers=[i['MedlineCitation']['KeywordList'] for i in papers['PubmedArticle']]\n",
    "    lst_key_papers=list(itertools.chain.from_iterable(list(itertools.chain.from_iterable(fetch_key_word_papers))))\n",
    "    key_from_paper=pd.DataFrame({'key word from papers':lst_key_papers})\n",
    "    key_word=key_from_paper['key word from papers'].str.lower()\n",
    "    return key_word"
   ]
  },
  {
   "cell_type": "code",
   "execution_count": 6,
   "metadata": {},
   "outputs": [],
   "source": [
    "def title_key(papers):\n",
    "    '''\n",
    "    extracting key words for titles of article\n",
    "    \n",
    "    Arg:\n",
    "        papers (dict): full information of articles\n",
    "        \n",
    "    return:\n",
    "        key_word (Pandas Series): list of key words\n",
    "    '''\n",
    "    \n",
    "    \n",
    "    titles=[i['MedlineCitation']['Article']['ArticleTitle'].lower()\\\n",
    "            .replace(',','').replace('.','').replace(':', '').replace('?','')\\\n",
    "            .replace('<sub>', '').replace('</sub>','').replace('<sup>','').replace('</sup>','')\\\n",
    "            .replace('<i>','').replace('</i>','')\\\n",
    "            .replace(search_word.lower(),'') for i in papers['PubmedArticle']]\n",
    "    tfidf=TfidfVectorizer(ngram_range=(2,2),stop_words='english')\n",
    "    X=tfidf.fit_transform(titles)\n",
    "    tfidf_df=pd.DataFrame(X.todense(), columns=sorted(tfidf.vocabulary_))\n",
    "    key_rank=tfidf_df.sum().sort_values(ascending=False)\n",
    "    \n",
    "    return key_rank\n"
   ]
  },
  {
   "cell_type": "code",
   "execution_count": 7,
   "metadata": {},
   "outputs": [],
   "source": [
    "def Abstract_key(papers):\n",
    "    '''\n",
    "    extracting key words for the abstract\n",
    "    \n",
    "    Arg:\n",
    "        papers (dict): full information of articles\n",
    "        \n",
    "    return:\n",
    "        key_word (Pandas Series): list of key words\n",
    "    '''\n",
    "    \n",
    "    \n",
    "    abstract_key=[]\n",
    "    for i in papers['PubmedArticle']:\n",
    "        try:\n",
    "            abstract_key.append(i['MedlineCitation']['Article']['Abstract']['AbstractText'][0].lower()\\\n",
    "            .replace(',','').replace('.','').replace(':', '').replace('?','')\\\n",
    "            .replace('<sub>', '').replace('</sub>','').replace('<sup>','').replace('</sup>','')\\\n",
    "            .replace('<i>','').replace('</i>','').replace(search_word.lower(),''))\n",
    "        except:\n",
    "            continue\n",
    "    tfidf=TfidfVectorizer(ngram_range=(2,2),stop_words='english')\n",
    "    X=tfidf.fit_transform(abstract_key)\n",
    "    tfidf_df=pd.DataFrame(X.todense(), columns=sorted(tfidf.vocabulary_))\n",
    "    key_rank=tfidf_df.sum().sort_values(ascending=False)\n",
    "    \n",
    "    return key_rank"
   ]
  },
  {
   "cell_type": "code",
   "execution_count": 8,
   "metadata": {},
   "outputs": [],
   "source": [
    "search_word='nanoparticle'"
   ]
  },
  {
   "cell_type": "code",
   "execution_count": 9,
   "metadata": {
    "scrolled": true
   },
   "outputs": [],
   "source": [
    "results = search(search_word)\n",
    "id_list = results['IdList']\n",
    "papers = fetch_details(id_list)"
   ]
  },
  {
   "cell_type": "code",
   "execution_count": null,
   "metadata": {},
   "outputs": [],
   "source": []
  },
  {
   "cell_type": "markdown",
   "metadata": {},
   "source": [
    "# Author List"
   ]
  },
  {
   "cell_type": "code",
   "execution_count": 10,
   "metadata": {
    "scrolled": true
   },
   "outputs": [
    {
     "data": {
      "text/html": [
       "<div>\n",
       "<style scoped>\n",
       "    .dataframe tbody tr th:only-of-type {\n",
       "        vertical-align: middle;\n",
       "    }\n",
       "\n",
       "    .dataframe tbody tr th {\n",
       "        vertical-align: top;\n",
       "    }\n",
       "\n",
       "    .dataframe thead th {\n",
       "        text-align: right;\n",
       "    }\n",
       "</style>\n",
       "<table border=\"1\" class=\"dataframe\">\n",
       "  <thead>\n",
       "    <tr style=\"text-align: right;\">\n",
       "      <th></th>\n",
       "      <th>ForeName</th>\n",
       "      <th>LastName</th>\n",
       "      <th>count</th>\n",
       "      <th>Google Scholar</th>\n",
       "    </tr>\n",
       "  </thead>\n",
       "  <tbody>\n",
       "    <tr>\n",
       "      <th>0</th>\n",
       "      <td>Warren C W</td>\n",
       "      <td>Chan</td>\n",
       "      <td>6</td>\n",
       "      <td>https://scholar.google.co.kr/scholar?hl=ko&amp;as_sdt=0%2C5&amp;q=Warren+C+W+Chan+review&amp;oq=</td>\n",
       "    </tr>\n",
       "    <tr>\n",
       "      <th>1</th>\n",
       "      <td>Conxita</td>\n",
       "      <td>Solans</td>\n",
       "      <td>6</td>\n",
       "      <td>https://scholar.google.co.kr/scholar?hl=ko&amp;as_sdt=0%2C5&amp;q=Conxita+Solans+review&amp;oq=</td>\n",
       "    </tr>\n",
       "    <tr>\n",
       "      <th>2</th>\n",
       "      <td>David Julian</td>\n",
       "      <td>McClements</td>\n",
       "      <td>6</td>\n",
       "      <td>https://scholar.google.co.kr/scholar?hl=ko&amp;as_sdt=0%2C5&amp;q=David+Julian+McClements+review&amp;oq=</td>\n",
       "    </tr>\n",
       "    <tr>\n",
       "      <th>3</th>\n",
       "      <td>Achim</td>\n",
       "      <td>Aigner</td>\n",
       "      <td>5</td>\n",
       "      <td>https://scholar.google.co.kr/scholar?hl=ko&amp;as_sdt=0%2C5&amp;q=Achim+Aigner+review&amp;oq=</td>\n",
       "    </tr>\n",
       "    <tr>\n",
       "      <th>4</th>\n",
       "      <td>Nikhil R</td>\n",
       "      <td>Jana</td>\n",
       "      <td>5</td>\n",
       "      <td>https://scholar.google.co.kr/scholar?hl=ko&amp;as_sdt=0%2C5&amp;q=Nikhil+R+Jana+review&amp;oq=</td>\n",
       "    </tr>\n",
       "    <tr>\n",
       "      <th>5</th>\n",
       "      <td>Christine K</td>\n",
       "      <td>Payne</td>\n",
       "      <td>4</td>\n",
       "      <td>https://scholar.google.co.kr/scholar?hl=ko&amp;as_sdt=0%2C5&amp;q=Christine+K+Payne+review&amp;oq=</td>\n",
       "    </tr>\n",
       "    <tr>\n",
       "      <th>6</th>\n",
       "      <td>Liangfang</td>\n",
       "      <td>Zhang</td>\n",
       "      <td>4</td>\n",
       "      <td>https://scholar.google.co.kr/scholar?hl=ko&amp;as_sdt=0%2C5&amp;q=Liangfang+Zhang+review&amp;oq=</td>\n",
       "    </tr>\n",
       "    <tr>\n",
       "      <th>7</th>\n",
       "      <td>Klaus</td>\n",
       "      <td>Langer</td>\n",
       "      <td>4</td>\n",
       "      <td>https://scholar.google.co.kr/scholar?hl=ko&amp;as_sdt=0%2C5&amp;q=Klaus+Langer+review&amp;oq=</td>\n",
       "    </tr>\n",
       "    <tr>\n",
       "      <th>8</th>\n",
       "      <td>Issei</td>\n",
       "      <td>Takeuchi</td>\n",
       "      <td>4</td>\n",
       "      <td>https://scholar.google.co.kr/scholar?hl=ko&amp;as_sdt=0%2C5&amp;q=Issei+Takeuchi+review&amp;oq=</td>\n",
       "    </tr>\n",
       "    <tr>\n",
       "      <th>9</th>\n",
       "      <td>Jordan J</td>\n",
       "      <td>Green</td>\n",
       "      <td>4</td>\n",
       "      <td>https://scholar.google.co.kr/scholar?hl=ko&amp;as_sdt=0%2C5&amp;q=Jordan+J+Green+review&amp;oq=</td>\n",
       "    </tr>\n",
       "  </tbody>\n",
       "</table>\n",
       "</div>"
      ],
      "text/plain": [
       "       ForeName    LastName  count  \\\n",
       "0    Warren C W        Chan      6   \n",
       "1       Conxita      Solans      6   \n",
       "2  David Julian  McClements      6   \n",
       "3         Achim      Aigner      5   \n",
       "4      Nikhil R        Jana      5   \n",
       "5   Christine K       Payne      4   \n",
       "6     Liangfang       Zhang      4   \n",
       "7         Klaus      Langer      4   \n",
       "8         Issei    Takeuchi      4   \n",
       "9      Jordan J       Green      4   \n",
       "\n",
       "                                                                                 Google Scholar  \n",
       "0          https://scholar.google.co.kr/scholar?hl=ko&as_sdt=0%2C5&q=Warren+C+W+Chan+review&oq=  \n",
       "1           https://scholar.google.co.kr/scholar?hl=ko&as_sdt=0%2C5&q=Conxita+Solans+review&oq=  \n",
       "2  https://scholar.google.co.kr/scholar?hl=ko&as_sdt=0%2C5&q=David+Julian+McClements+review&oq=  \n",
       "3             https://scholar.google.co.kr/scholar?hl=ko&as_sdt=0%2C5&q=Achim+Aigner+review&oq=  \n",
       "4            https://scholar.google.co.kr/scholar?hl=ko&as_sdt=0%2C5&q=Nikhil+R+Jana+review&oq=  \n",
       "5        https://scholar.google.co.kr/scholar?hl=ko&as_sdt=0%2C5&q=Christine+K+Payne+review&oq=  \n",
       "6          https://scholar.google.co.kr/scholar?hl=ko&as_sdt=0%2C5&q=Liangfang+Zhang+review&oq=  \n",
       "7             https://scholar.google.co.kr/scholar?hl=ko&as_sdt=0%2C5&q=Klaus+Langer+review&oq=  \n",
       "8           https://scholar.google.co.kr/scholar?hl=ko&as_sdt=0%2C5&q=Issei+Takeuchi+review&oq=  \n",
       "9           https://scholar.google.co.kr/scholar?hl=ko&as_sdt=0%2C5&q=Jordan+J+Green+review&oq=  "
      ]
     },
     "execution_count": 10,
     "metadata": {},
     "output_type": "execute_result"
    }
   ],
   "source": [
    "result=Author_list(papers)\n",
    "result"
   ]
  },
  {
   "cell_type": "code",
   "execution_count": 11,
   "metadata": {},
   "outputs": [
    {
     "data": {
      "text/plain": [
       "0            https://scholar.google.co.kr/scholar?hl=ko&as_sdt=0%2C5&q=Warren+C+W+Chan+review&oq=\n",
       "1             https://scholar.google.co.kr/scholar?hl=ko&as_sdt=0%2C5&q=Conxita+Solans+review&oq=\n",
       "2    https://scholar.google.co.kr/scholar?hl=ko&as_sdt=0%2C5&q=David+Julian+McClements+review&oq=\n",
       "3               https://scholar.google.co.kr/scholar?hl=ko&as_sdt=0%2C5&q=Achim+Aigner+review&oq=\n",
       "4              https://scholar.google.co.kr/scholar?hl=ko&as_sdt=0%2C5&q=Nikhil+R+Jana+review&oq=\n",
       "5          https://scholar.google.co.kr/scholar?hl=ko&as_sdt=0%2C5&q=Christine+K+Payne+review&oq=\n",
       "6            https://scholar.google.co.kr/scholar?hl=ko&as_sdt=0%2C5&q=Liangfang+Zhang+review&oq=\n",
       "7               https://scholar.google.co.kr/scholar?hl=ko&as_sdt=0%2C5&q=Klaus+Langer+review&oq=\n",
       "8             https://scholar.google.co.kr/scholar?hl=ko&as_sdt=0%2C5&q=Issei+Takeuchi+review&oq=\n",
       "9             https://scholar.google.co.kr/scholar?hl=ko&as_sdt=0%2C5&q=Jordan+J+Green+review&oq=\n",
       "Name: Google Scholar, dtype: object"
      ]
     },
     "execution_count": 11,
     "metadata": {},
     "output_type": "execute_result"
    }
   ],
   "source": [
    "result['Google Scholar']"
   ]
  },
  {
   "cell_type": "markdown",
   "metadata": {},
   "source": [
    "# Key Word List"
   ]
  },
  {
   "cell_type": "code",
   "execution_count": 12,
   "metadata": {
    "scrolled": true
   },
   "outputs": [],
   "source": [
    "key_paper_lst=key_from_papers(papers)"
   ]
  },
  {
   "cell_type": "code",
   "execution_count": 13,
   "metadata": {},
   "outputs": [
    {
     "data": {
      "text/plain": [
       "nanoparticles             189\n",
       "nanoparticle              158\n",
       "drug delivery              46\n",
       "chitosan                   33\n",
       "nanomedicine               21\n",
       "protein corona             19\n",
       "cancer                     19\n",
       "gold nanoparticles         16\n",
       "toxicity                   14\n",
       "plga                       14\n",
       "cytotoxicity               14\n",
       "apoptosis                  13\n",
       "macrophage                 12\n",
       "doxorubicin                12\n",
       "inflammation               11\n",
       "biodistribution            11\n",
       "silver nanoparticles       11\n",
       "magnetic nanoparticles     11\n",
       "nanotechnology             10\n",
       "chemotherapy               10\n",
       "Name: key word from papers, dtype: int64"
      ]
     },
     "execution_count": 13,
     "metadata": {},
     "output_type": "execute_result"
    }
   ],
   "source": [
    "key_paper_lst.value_counts().head(20)"
   ]
  },
  {
   "cell_type": "markdown",
   "metadata": {},
   "source": [
    "# Key Words from Title"
   ]
  },
  {
   "cell_type": "code",
   "execution_count": 14,
   "metadata": {
    "scrolled": false
   },
   "outputs": [
    {
     "data": {
      "text/plain": [
       "drug delivery           9.613238\n",
       "protein corona          6.929557\n",
       "iron oxide              5.616238\n",
       "cancer therapy          4.732969\n",
       "mesoporous silica       3.729772\n",
       "surface charge          3.584749\n",
       "cellular uptake         3.345526\n",
       "core shell              2.877991\n",
       "self assembled          2.837052\n",
       "titanium dioxide        2.719085\n",
       "drug release            2.702896\n",
       "oral delivery           2.551574\n",
       "lung cancer             2.529179\n",
       "breast cancer           2.495949\n",
       "cell interactions       2.470004\n",
       "tracking analysis       2.460424\n",
       "gene delivery           2.365072\n",
       "photodynamic therapy    2.298330\n",
       "serum albumin           2.115370\n",
       "real time               2.088745\n",
       "dtype: float64"
      ]
     },
     "execution_count": 14,
     "metadata": {},
     "output_type": "execute_result"
    }
   ],
   "source": [
    "key_title=title_key(papers)\n",
    "key_title[:20]"
   ]
  },
  {
   "cell_type": "markdown",
   "metadata": {},
   "source": [
    "# Key Words from Abstract"
   ]
  },
  {
   "cell_type": "code",
   "execution_count": 15,
   "metadata": {},
   "outputs": [],
   "source": [
    "key_abstract=Abstract_key(papers)"
   ]
  },
  {
   "cell_type": "code",
   "execution_count": 16,
   "metadata": {
    "scrolled": false
   },
   "outputs": [
    {
     "data": {
      "text/plain": [
       "drug delivery                 8.766699\n",
       "cancer cells                  4.797810\n",
       "protein corona                4.636144\n",
       "drug release                  4.469569\n",
       "electron microscopy           4.345457\n",
       "iron oxide                    4.014953\n",
       "cellular uptake               3.957454\n",
       "particle size                 3.482660\n",
       "zeta potential                3.381668\n",
       "surface charge                3.202056\n",
       "delivery systems              3.163817\n",
       "transmission electron         2.748382\n",
       "physicochemical properties    2.681125\n",
       "vitro vivo                    2.623228\n",
       "polyethylene glycol           2.548597\n",
       "mesoporous silica             2.543251\n",
       "present study                 2.367577\n",
       "self assembly                 2.355023\n",
       "core shell                    2.328665\n",
       "gene delivery                 2.272032\n",
       "dtype: float64"
      ]
     },
     "execution_count": 16,
     "metadata": {},
     "output_type": "execute_result"
    }
   ],
   "source": [
    "key_abstract[:20]"
   ]
  },
  {
   "cell_type": "markdown",
   "metadata": {},
   "source": [
    "LDA\n",
    "word Vec\n",
    "pyldavis\n",
    "\n",
    "pyldavis\n",
    "\n",
    "textrank\n",
    "lexrank"
   ]
  }
 ],
 "metadata": {
  "kernelspec": {
   "display_name": "Python 3",
   "language": "python",
   "name": "python3"
  },
  "language_info": {
   "codemirror_mode": {
    "name": "ipython",
    "version": 3
   },
   "file_extension": ".py",
   "mimetype": "text/x-python",
   "name": "python",
   "nbconvert_exporter": "python",
   "pygments_lexer": "ipython3",
   "version": "3.7.3"
  }
 },
 "nbformat": 4,
 "nbformat_minor": 2
}
