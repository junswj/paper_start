{
 "cells": [
  {
   "cell_type": "markdown",
   "metadata": {},
   "source": [
    "# Research Paper Recommender"
   ]
  },
  {
   "cell_type": "markdown",
   "metadata": {},
   "source": [
    "### :Review article recommender using PubMed API and Key word exraction from article titles using TF-IDF"
   ]
  },
  {
   "cell_type": "markdown",
   "metadata": {},
   "source": [
    "During my research period, I have been switching my research topic very frequently, so I know how much the pain involves whenever they had to restart studying on the new field. Thus, I am currently developing the educational platform for junior researchers who just started research, using paper and keyword recommender system."
   ]
  },
  {
   "cell_type": "markdown",
   "metadata": {},
   "source": [
    "**Keyword recommendation:** Problem of current research article search engine is providing the keywords based on the keywords provided by article author, and mostly the one-word synonyms. I developed the keyword recommender using texts from titles and abstracts. Proper usage of ngram and TF-IDF provided intuitive keywords which gives information what to look up for the study."
   ]
  },
  {
   "cell_type": "markdown",
   "metadata": {},
   "source": [
    "**Paper recommendation:** Best way to learn new field is reading a good review article written by leading scientist in the field. Problem of finding the article by citation number is this will be highly biased towards the date of publication. First article published in the field gets most citation. This recommender provides list of review articles of most active researchers, based on publication number and citation recently, and displays most recently reviews by analyzing PubMed database. "
   ]
  },
  {
   "cell_type": "markdown",
   "metadata": {},
   "source": [
    "Currently working on the building a database using searched keywords and develop abstract analyzer"
   ]
  },
  {
   "cell_type": "markdown",
   "metadata": {},
   "source": [
    "# Importing Packages and Functions"
   ]
  },
  {
   "cell_type": "code",
   "execution_count": 1,
   "metadata": {},
   "outputs": [],
   "source": [
    "from Bio import Entrez\n",
    "from sklearn.feature_extraction.text import TfidfVectorizer\n",
    "import pandas as pd\n",
    "import itertools\n",
    "\n",
    "pd.set_option('display.max_colwidth', 1000)"
   ]
  },
  {
   "cell_type": "code",
   "execution_count": 2,
   "metadata": {},
   "outputs": [],
   "source": [
    "def search(keyword):\n",
    "    '''\n",
    "    returns IDList of research articles related the keyword\n",
    "    \n",
    "    Arg:\n",
    "        keyword (str): keyword of the interest\n",
    "        \n",
    "    return:\n",
    "        IDList (Dict): List of publication IDs related to the keywords\n",
    "    '''\n",
    "    \n",
    "    Entrez.email = 'sxxize@gmail.com'\n",
    "    handle = Entrez.esearch(db='pubmed', \n",
    "                            sort='relevance', \n",
    "                            retmax='1000',\n",
    "                            retmode='xml', \n",
    "                            term=keyword)\n",
    "    IDList = Entrez.read(handle)\n",
    "    return IDList"
   ]
  },
  {
   "cell_type": "code",
   "execution_count": 3,
   "metadata": {},
   "outputs": [],
   "source": [
    "def fetch_details(id_list):\n",
    "    '''\n",
    "    returns article information from pubmed\n",
    "    \n",
    "    Arg: \n",
    "        id_list (dict): id list of publications returned from serach function\n",
    "        \n",
    "    return:\n",
    "        results (dict): full information of articles \n",
    "    '''\n",
    "    ids = ','.join(id_list)\n",
    "    Entrez.email = 'sxxize@gmail.com'\n",
    "    handle = Entrez.efetch(db='pubmed',\n",
    "                           retmode='xml',\n",
    "                           id=ids)\n",
    "    results = Entrez.read(handle)\n",
    "    return results"
   ]
  },
  {
   "cell_type": "code",
   "execution_count": 4,
   "metadata": {},
   "outputs": [],
   "source": [
    "def Author_list(papers):\n",
    "    \n",
    "    paper_author_lst=[i['MedlineCitation']['Article']['AuthorList']\\\n",
    "                      for i in papers['PubmedArticle']]\n",
    "    dfs=[pd.DataFrame(paper_author_lst[i]) for i in range(len(paper_author_lst))]\n",
    "    names_dfs=pd.concat(dfs, axis=0, sort=True )\n",
    "    author_count_df=names_dfs[['ForeName', 'LastName']]\\\n",
    "                    .groupby(['ForeName', 'LastName']).size()\\\n",
    "                    .reset_index(name='count').sort_values(by='count', ascending=False)\n",
    "    top=author_count_df.head(10)\n",
    "    google_url='https://scholar.google.co.kr/scholar?hl=ko&as_sdt=0%2C5&q='\n",
    "    name=top['ForeName']+' '+top['LastName']\n",
    "    result=top.reset_index(drop=True).join(pd.DataFrame({'Google Scholar':[google_url+i for i in name.str.replace(' ', '+')+'+review&oq=']}))\n",
    "    \n",
    "    return result"
   ]
  },
  {
   "cell_type": "code",
   "execution_count": 5,
   "metadata": {},
   "outputs": [],
   "source": [
    "def key_from_papers(papers):\n",
    "    '''\n",
    "    extracting key words provided by the authors\n",
    "    \n",
    "    Arg:\n",
    "        papers (dict): full information of articles\n",
    "        \n",
    "    return:\n",
    "        key_word (Pandas Series): list of key words\n",
    "    '''\n",
    "    fetch_key_word_papers=[i['MedlineCitation']['KeywordList'] for i in papers['PubmedArticle']]\n",
    "    lst_key_papers=list(itertools.chain.from_iterable(list(itertools.chain.from_iterable(fetch_key_word_papers))))\n",
    "    key_from_paper=pd.DataFrame({'key word from papers':lst_key_papers})\n",
    "    key_word=key_from_paper['key word from papers'].str.lower()\n",
    "    return key_word"
   ]
  },
  {
   "cell_type": "code",
   "execution_count": 6,
   "metadata": {},
   "outputs": [],
   "source": [
    "def title_key(papers):\n",
    "    '''\n",
    "    extracting key words for titles of article\n",
    "    \n",
    "    Arg:\n",
    "        papers (dict): full information of articles\n",
    "        \n",
    "    return:\n",
    "        key_word (Pandas Series): list of key words\n",
    "    '''\n",
    "    \n",
    "    \n",
    "    titles=[i['MedlineCitation']['Article']['ArticleTitle'].lower()\\\n",
    "            .replace(',','').replace('.','').replace(':', '').replace('?','')\\\n",
    "            .replace('<sub>', '').replace('</sub>','').replace('<sup>','').replace('</sup>','')\\\n",
    "            .replace('<i>','').replace('</i>','')\\\n",
    "            .replace(search_word.lower(),'') for i in papers['PubmedArticle']]\n",
    "    tfidf=TfidfVectorizer(ngram_range=(2,2),stop_words='english')\n",
    "    X=tfidf.fit_transform(titles)\n",
    "    tfidf_df=pd.DataFrame(X.todense(), columns=sorted(tfidf.vocabulary_))\n",
    "    key_rank=tfidf_df.sum().sort_values(ascending=False)\n",
    "    \n",
    "    return key_rank\n"
   ]
  },
  {
   "cell_type": "code",
   "execution_count": 7,
   "metadata": {},
   "outputs": [],
   "source": [
    "def Abstract_key(papers):\n",
    "    '''\n",
    "    extracting key words for the abstract\n",
    "    \n",
    "    Arg:\n",
    "        papers (dict): full information of articles\n",
    "        \n",
    "    return:\n",
    "        key_word (Pandas Series): list of key words\n",
    "    '''\n",
    "    \n",
    "    \n",
    "    abstract_key=[]\n",
    "    for i in papers['PubmedArticle']:\n",
    "        try:\n",
    "            abstract_key.append(i['MedlineCitation']['Article']['Abstract']['AbstractText'][0].lower()\\\n",
    "            .replace(',','').replace('.','').replace(':', '').replace('?','')\\\n",
    "            .replace('<sub>', '').replace('</sub>','').replace('<sup>','').replace('</sup>','')\\\n",
    "            .replace('<i>','').replace('</i>','').replace(search_word.lower(),''))\n",
    "        except:\n",
    "            continue\n",
    "    tfidf=TfidfVectorizer(ngram_range=(2,2),stop_words='english')\n",
    "    X=tfidf.fit_transform(abstract_key)\n",
    "    tfidf_df=pd.DataFrame(X.todense(), columns=sorted(tfidf.vocabulary_))\n",
    "    key_rank=tfidf_df.sum().sort_values(ascending=False)\n",
    "    \n",
    "    return key_rank"
   ]
  },
  {
   "cell_type": "code",
   "execution_count": 8,
   "metadata": {},
   "outputs": [],
   "source": [
    "search_word='tissue engineering'"
   ]
  },
  {
   "cell_type": "code",
   "execution_count": 9,
   "metadata": {
    "scrolled": true
   },
   "outputs": [],
   "source": [
    "results = search(search_word)\n",
    "id_list = results['IdList']\n",
    "papers = fetch_details(id_list)"
   ]
  },
  {
   "cell_type": "code",
   "execution_count": null,
   "metadata": {},
   "outputs": [],
   "source": []
  },
  {
   "cell_type": "markdown",
   "metadata": {},
   "source": [
    "# Author List"
   ]
  },
  {
   "cell_type": "code",
   "execution_count": 10,
   "metadata": {
    "scrolled": true
   },
   "outputs": [
    {
     "data": {
      "text/html": [
       "<div>\n",
       "<style scoped>\n",
       "    .dataframe tbody tr th:only-of-type {\n",
       "        vertical-align: middle;\n",
       "    }\n",
       "\n",
       "    .dataframe tbody tr th {\n",
       "        vertical-align: top;\n",
       "    }\n",
       "\n",
       "    .dataframe thead th {\n",
       "        text-align: right;\n",
       "    }\n",
       "</style>\n",
       "<table border=\"1\" class=\"dataframe\">\n",
       "  <thead>\n",
       "    <tr style=\"text-align: right;\">\n",
       "      <th></th>\n",
       "      <th>ForeName</th>\n",
       "      <th>LastName</th>\n",
       "      <th>count</th>\n",
       "      <th>Google Scholar</th>\n",
       "    </tr>\n",
       "  </thead>\n",
       "  <tbody>\n",
       "    <tr>\n",
       "      <th>0</th>\n",
       "      <td>Rui L</td>\n",
       "      <td>Reis</td>\n",
       "      <td>19</td>\n",
       "      <td>https://scholar.google.co.kr/scholar?hl=ko&amp;as_sdt=0%2C5&amp;q=Rui+L+Reis+review&amp;oq=</td>\n",
       "    </tr>\n",
       "    <tr>\n",
       "      <th>1</th>\n",
       "      <td>Ali</td>\n",
       "      <td>Khademhosseini</td>\n",
       "      <td>10</td>\n",
       "      <td>https://scholar.google.co.kr/scholar?hl=ko&amp;as_sdt=0%2C5&amp;q=Ali+Khademhosseini+review&amp;oq=</td>\n",
       "    </tr>\n",
       "    <tr>\n",
       "      <th>2</th>\n",
       "      <td>Kyriacos A</td>\n",
       "      <td>Athanasiou</td>\n",
       "      <td>8</td>\n",
       "      <td>https://scholar.google.co.kr/scholar?hl=ko&amp;as_sdt=0%2C5&amp;q=Kyriacos+A+Athanasiou+review&amp;oq=</td>\n",
       "    </tr>\n",
       "    <tr>\n",
       "      <th>3</th>\n",
       "      <td>Masoud</td>\n",
       "      <td>Mozafari</td>\n",
       "      <td>8</td>\n",
       "      <td>https://scholar.google.co.kr/scholar?hl=ko&amp;as_sdt=0%2C5&amp;q=Masoud+Mozafari+review&amp;oq=</td>\n",
       "    </tr>\n",
       "    <tr>\n",
       "      <th>4</th>\n",
       "      <td>Xiongbiao</td>\n",
       "      <td>Chen</td>\n",
       "      <td>8</td>\n",
       "      <td>https://scholar.google.co.kr/scholar?hl=ko&amp;as_sdt=0%2C5&amp;q=Xiongbiao+Chen+review&amp;oq=</td>\n",
       "    </tr>\n",
       "    <tr>\n",
       "      <th>5</th>\n",
       "      <td>Jerry C</td>\n",
       "      <td>Hu</td>\n",
       "      <td>7</td>\n",
       "      <td>https://scholar.google.co.kr/scholar?hl=ko&amp;as_sdt=0%2C5&amp;q=Jerry+C+Hu+review&amp;oq=</td>\n",
       "    </tr>\n",
       "    <tr>\n",
       "      <th>6</th>\n",
       "      <td>Jafar</td>\n",
       "      <td>Ai</td>\n",
       "      <td>7</td>\n",
       "      <td>https://scholar.google.co.kr/scholar?hl=ko&amp;as_sdt=0%2C5&amp;q=Jafar+Ai+review&amp;oq=</td>\n",
       "    </tr>\n",
       "    <tr>\n",
       "      <th>7</th>\n",
       "      <td>Hae-Won</td>\n",
       "      <td>Kim</td>\n",
       "      <td>7</td>\n",
       "      <td>https://scholar.google.co.kr/scholar?hl=ko&amp;as_sdt=0%2C5&amp;q=Hae-Won+Kim+review&amp;oq=</td>\n",
       "    </tr>\n",
       "    <tr>\n",
       "      <th>8</th>\n",
       "      <td>Dilek</td>\n",
       "      <td>Keskin</td>\n",
       "      <td>6</td>\n",
       "      <td>https://scholar.google.co.kr/scholar?hl=ko&amp;as_sdt=0%2C5&amp;q=Dilek+Keskin+review&amp;oq=</td>\n",
       "    </tr>\n",
       "    <tr>\n",
       "      <th>9</th>\n",
       "      <td>Antonios G</td>\n",
       "      <td>Mikos</td>\n",
       "      <td>6</td>\n",
       "      <td>https://scholar.google.co.kr/scholar?hl=ko&amp;as_sdt=0%2C5&amp;q=Antonios+G+Mikos+review&amp;oq=</td>\n",
       "    </tr>\n",
       "  </tbody>\n",
       "</table>\n",
       "</div>"
      ],
      "text/plain": [
       "     ForeName        LastName  count  \\\n",
       "0       Rui L            Reis     19   \n",
       "1         Ali  Khademhosseini     10   \n",
       "2  Kyriacos A      Athanasiou      8   \n",
       "3      Masoud        Mozafari      8   \n",
       "4   Xiongbiao            Chen      8   \n",
       "5     Jerry C              Hu      7   \n",
       "6       Jafar              Ai      7   \n",
       "7     Hae-Won             Kim      7   \n",
       "8       Dilek          Keskin      6   \n",
       "9  Antonios G           Mikos      6   \n",
       "\n",
       "                                                                               Google Scholar  \n",
       "0             https://scholar.google.co.kr/scholar?hl=ko&as_sdt=0%2C5&q=Rui+L+Reis+review&oq=  \n",
       "1     https://scholar.google.co.kr/scholar?hl=ko&as_sdt=0%2C5&q=Ali+Khademhosseini+review&oq=  \n",
       "2  https://scholar.google.co.kr/scholar?hl=ko&as_sdt=0%2C5&q=Kyriacos+A+Athanasiou+review&oq=  \n",
       "3        https://scholar.google.co.kr/scholar?hl=ko&as_sdt=0%2C5&q=Masoud+Mozafari+review&oq=  \n",
       "4         https://scholar.google.co.kr/scholar?hl=ko&as_sdt=0%2C5&q=Xiongbiao+Chen+review&oq=  \n",
       "5             https://scholar.google.co.kr/scholar?hl=ko&as_sdt=0%2C5&q=Jerry+C+Hu+review&oq=  \n",
       "6               https://scholar.google.co.kr/scholar?hl=ko&as_sdt=0%2C5&q=Jafar+Ai+review&oq=  \n",
       "7            https://scholar.google.co.kr/scholar?hl=ko&as_sdt=0%2C5&q=Hae-Won+Kim+review&oq=  \n",
       "8           https://scholar.google.co.kr/scholar?hl=ko&as_sdt=0%2C5&q=Dilek+Keskin+review&oq=  \n",
       "9       https://scholar.google.co.kr/scholar?hl=ko&as_sdt=0%2C5&q=Antonios+G+Mikos+review&oq=  "
      ]
     },
     "execution_count": 10,
     "metadata": {},
     "output_type": "execute_result"
    }
   ],
   "source": [
    "result=Author_list(papers)\n",
    "result"
   ]
  },
  {
   "cell_type": "code",
   "execution_count": 11,
   "metadata": {},
   "outputs": [
    {
     "data": {
      "text/plain": [
       "0               https://scholar.google.co.kr/scholar?hl=ko&as_sdt=0%2C5&q=Rui+L+Reis+review&oq=\n",
       "1       https://scholar.google.co.kr/scholar?hl=ko&as_sdt=0%2C5&q=Ali+Khademhosseini+review&oq=\n",
       "2    https://scholar.google.co.kr/scholar?hl=ko&as_sdt=0%2C5&q=Kyriacos+A+Athanasiou+review&oq=\n",
       "3          https://scholar.google.co.kr/scholar?hl=ko&as_sdt=0%2C5&q=Masoud+Mozafari+review&oq=\n",
       "4           https://scholar.google.co.kr/scholar?hl=ko&as_sdt=0%2C5&q=Xiongbiao+Chen+review&oq=\n",
       "5               https://scholar.google.co.kr/scholar?hl=ko&as_sdt=0%2C5&q=Jerry+C+Hu+review&oq=\n",
       "6                 https://scholar.google.co.kr/scholar?hl=ko&as_sdt=0%2C5&q=Jafar+Ai+review&oq=\n",
       "7              https://scholar.google.co.kr/scholar?hl=ko&as_sdt=0%2C5&q=Hae-Won+Kim+review&oq=\n",
       "8             https://scholar.google.co.kr/scholar?hl=ko&as_sdt=0%2C5&q=Dilek+Keskin+review&oq=\n",
       "9         https://scholar.google.co.kr/scholar?hl=ko&as_sdt=0%2C5&q=Antonios+G+Mikos+review&oq=\n",
       "Name: Google Scholar, dtype: object"
      ]
     },
     "execution_count": 11,
     "metadata": {},
     "output_type": "execute_result"
    }
   ],
   "source": [
    "result['Google Scholar']"
   ]
  },
  {
   "cell_type": "markdown",
   "metadata": {},
   "source": [
    "# Key Word List"
   ]
  },
  {
   "cell_type": "code",
   "execution_count": 12,
   "metadata": {
    "scrolled": true
   },
   "outputs": [],
   "source": [
    "key_paper_lst=key_from_papers(papers)"
   ]
  },
  {
   "cell_type": "code",
   "execution_count": 13,
   "metadata": {},
   "outputs": [
    {
     "data": {
      "text/plain": [
       "tissue engineering              446\n",
       "bone tissue engineering         125\n",
       "scaffold                         98\n",
       "regenerative medicine            67\n",
       "scaffolds                        64\n",
       "biomaterials                     63\n",
       "electrospinning                  61\n",
       "stem cells                       59\n",
       "chitosan                         51\n",
       "mesenchymal stem cells           43\n",
       "hydrogel                         41\n",
       "cartilage tissue engineering     39\n",
       "bone                             34\n",
       "drug delivery                    33\n",
       "biomaterial                      28\n",
       "extracellular matrix             28\n",
       "hydrogels                        27\n",
       "collagen                         26\n",
       "gelatin                          23\n",
       "biocompatibility                 23\n",
       "Name: key word from papers, dtype: int64"
      ]
     },
     "execution_count": 13,
     "metadata": {},
     "output_type": "execute_result"
    }
   ],
   "source": [
    "key_paper_lst.value_counts().head(20)"
   ]
  },
  {
   "cell_type": "markdown",
   "metadata": {},
   "source": [
    "# Key Words from Title"
   ]
  },
  {
   "cell_type": "code",
   "execution_count": 14,
   "metadata": {
    "scrolled": false
   },
   "outputs": [
    {
     "data": {
      "text/plain": [
       "stem cells               13.291217\n",
       "scaffolds bone           11.109212\n",
       "regenerative medicine     9.959245\n",
       "stem cell                 7.837889\n",
       "drug delivery             6.995312\n",
       "mesenchymal stem          6.919429\n",
       "tissue engineering        6.221868\n",
       "systematic review         5.786348\n",
       "extracellular matrix      5.551079\n",
       "recent advances           4.873178\n",
       "silk fibroin              4.825905\n",
       "based scaffolds           4.736733\n",
       "articular cartilage       4.165468\n",
       "cell based                4.024800\n",
       "growth factor             3.819023\n",
       "bone applications         3.509373\n",
       "composite scaffolds       3.440955\n",
       "3d printing               3.345236\n",
       "animal models             3.305354\n",
       "composite scaffold        3.283646\n",
       "dtype: float64"
      ]
     },
     "execution_count": 14,
     "metadata": {},
     "output_type": "execute_result"
    }
   ],
   "source": [
    "key_title=title_key(papers)\n",
    "key_title[:20]"
   ]
  },
  {
   "cell_type": "markdown",
   "metadata": {},
   "source": [
    "# Key Words from Abstract"
   ]
  },
  {
   "cell_type": "code",
   "execution_count": 15,
   "metadata": {},
   "outputs": [],
   "source": [
    "key_abstract=Abstract_key(papers)"
   ]
  },
  {
   "cell_type": "code",
   "execution_count": 16,
   "metadata": {
    "scrolled": true
   },
   "outputs": [
    {
     "data": {
      "text/plain": [
       "stem cells               12.855377\n",
       "mechanical properties     8.273759\n",
       "regenerative medicine     7.703138\n",
       "tissue engineered         7.271873\n",
       "extracellular matrix      6.677208\n",
       "stem cell                 6.039579\n",
       "mesenchymal stem          5.745126\n",
       "tissue regeneration       5.606731\n",
       "growth factors            5.311438\n",
       "tissue engineering        4.251521\n",
       "cell proliferation        3.900226\n",
       "3d printing               3.826932\n",
       "growth factor             3.811594\n",
       "bone tissue               3.690361\n",
       "articular cartilage       3.539453\n",
       "drug delivery             3.474507\n",
       "adipose tissue            3.426886\n",
       "cell culture              3.395901\n",
       "bone regeneration         3.266220\n",
       "cell adhesion             3.225387\n",
       "dtype: float64"
      ]
     },
     "execution_count": 16,
     "metadata": {},
     "output_type": "execute_result"
    }
   ],
   "source": [
    "key_abstract[:20]"
   ]
  },
  {
   "cell_type": "markdown",
   "metadata": {},
   "source": [
    "Keyword used in search + Keyword suggeted by user\n",
    "> search word: tissue engineering\n",
    "\n",
    "> keyword suggestion: stem cell\n",
    "\n",
    "> result: **stem cell tissue engineering**\n"
   ]
  },
  {
   "cell_type": "markdown",
   "metadata": {},
   "source": [
    "LDA\n",
    "word Vec\n",
    "pyldavis\n",
    "\n",
    "pyldavis\n",
    "\n",
    "textrank\n",
    "lexrank"
   ]
  }
 ],
 "metadata": {
  "kernelspec": {
   "display_name": "Python 3",
   "language": "python",
   "name": "python3"
  },
  "language_info": {
   "codemirror_mode": {
    "name": "ipython",
    "version": 3
   },
   "file_extension": ".py",
   "mimetype": "text/x-python",
   "name": "python",
   "nbconvert_exporter": "python",
   "pygments_lexer": "ipython3",
   "version": "3.7.3"
  }
 },
 "nbformat": 4,
 "nbformat_minor": 2
}
