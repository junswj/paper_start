{
 "cells": [
  {
   "cell_type": "markdown",
   "metadata": {},
   "source": [
    "# Research Paper Recommender"
   ]
  },
  {
   "cell_type": "markdown",
   "metadata": {},
   "source": [
    "### :Review article recommender using PubMed API and Key word exraction from article titles using TF-IDF"
   ]
  },
  {
   "cell_type": "markdown",
   "metadata": {},
   "source": [
    "During my research period, I have been switching my research topic very frequently, so I know how much the pain involves whenever they had to restart studying on the new field. Thus, I am currently developing the educational platform for junior researchers who just started research, using paper and keyword recommender system."
   ]
  },
  {
   "cell_type": "markdown",
   "metadata": {},
   "source": [
    "**Keyword recommendation:** Problem of current research article search engine is providing the keywords based on the keywords provided by article author, and mostly the one-word synonyms. I developed the keyword recommender using texts from titles and abstracts. Proper usage of ngram and TF-IDF provided intuitive keywords which gives information what to look up for the study."
   ]
  },
  {
   "cell_type": "markdown",
   "metadata": {},
   "source": [
    "**Paper recommendation:** Best way to learn new field is reading a good review article written by leading scientist in the field. Problem of finding the article by citation number is this will be highly biased towards the date of publication. First article published in the field gets most citation. This recommender provides list of review articles of most active researchers, based on publication number and citation recently, and displays most recently reviews by analyzing PubMed database. "
   ]
  },
  {
   "cell_type": "markdown",
   "metadata": {},
   "source": [
    "Currently working on the building a database using searched keywords and develop abstract analyzer"
   ]
  },
  {
   "cell_type": "markdown",
   "metadata": {},
   "source": [
    "# Importing Packages and Functions"
   ]
  },
  {
   "cell_type": "code",
   "execution_count": 1,
   "metadata": {},
   "outputs": [],
   "source": [
    "from Bio import Entrez\n",
    "from sklearn.feature_extraction.text import TfidfVectorizer\n",
    "import pandas as pd\n",
    "import itertools\n",
    "\n",
    "pd.set_option('display.max_colwidth', 1000)"
   ]
  },
  {
   "cell_type": "code",
   "execution_count": 2,
   "metadata": {},
   "outputs": [],
   "source": [
    "def search(keyword):\n",
    "    '''\n",
    "    returns IDList of research articles related the keyword\n",
    "    \n",
    "    Arg:\n",
    "        keyword (str): keyword of the interest\n",
    "        \n",
    "    return:\n",
    "        IDList (Dict): List of publication IDs related to the keywords\n",
    "    '''\n",
    "    \n",
    "    Entrez.email = 'sxxize@gmail.com'\n",
    "    handle = Entrez.esearch(db='pubmed', \n",
    "                            sort='relevance', \n",
    "                            retmax='1000',\n",
    "                            retmode='xml', \n",
    "                            term=keyword)\n",
    "    IDList = Entrez.read(handle)\n",
    "    return IDList"
   ]
  },
  {
   "cell_type": "code",
   "execution_count": 3,
   "metadata": {},
   "outputs": [],
   "source": [
    "def fetch_details(id_list):\n",
    "    '''\n",
    "    returns article information from pubmed\n",
    "    \n",
    "    Arg: \n",
    "        id_list (dict): id list of publications returned from serach function\n",
    "        \n",
    "    return:\n",
    "        results (dict): full information of articles \n",
    "    '''\n",
    "    ids = ','.join(id_list)\n",
    "    Entrez.email = 'sxxize@gmail.com'\n",
    "    handle = Entrez.efetch(db='pubmed',\n",
    "                           retmode='xml',\n",
    "                           id=ids)\n",
    "    results = Entrez.read(handle)\n",
    "    return results"
   ]
  },
  {
   "cell_type": "code",
   "execution_count": 4,
   "metadata": {},
   "outputs": [],
   "source": [
    "def Author_list(papers):\n",
    "    \n",
    "    paper_author_lst=[i['MedlineCitation']['Article']['AuthorList']\\\n",
    "                      for i in papers['PubmedArticle']]\n",
    "    dfs=[pd.DataFrame(paper_author_lst[i]) for i in range(len(paper_author_lst))]\n",
    "    names_dfs=pd.concat(dfs, axis=0, sort=True )\n",
    "    author_count_df=names_dfs[['ForeName', 'LastName']]\\\n",
    "                    .groupby(['ForeName', 'LastName']).size()\\\n",
    "                    .reset_index(name='count').sort_values(by='count', ascending=False)\n",
    "    top=author_count_df.head(10)\n",
    "    google_url='https://scholar.google.co.kr/scholar?hl=ko&as_sdt=0%2C5&q='\n",
    "    name=top['ForeName']+' '+top['LastName']\n",
    "    result=top.reset_index(drop=True).join(pd.DataFrame({'Google Scholar':[google_url+i for i in name.str.replace(' ', '+')+'+review&oq=']}))\n",
    "    \n",
    "    return result"
   ]
  },
  {
   "cell_type": "code",
   "execution_count": 5,
   "metadata": {},
   "outputs": [],
   "source": [
    "def key_from_papers(papers):\n",
    "    '''\n",
    "    extracting key words provided by the authors\n",
    "    \n",
    "    Arg:\n",
    "        papers (dict): full information of articles\n",
    "        \n",
    "    return:\n",
    "        key_word (Pandas Series): list of key words\n",
    "    '''\n",
    "    fetch_key_word_papers=[i['MedlineCitation']['KeywordList'] for i in papers['PubmedArticle']]\n",
    "    lst_key_papers=list(itertools.chain.from_iterable(list(itertools.chain.from_iterable(fetch_key_word_papers))))\n",
    "    key_from_paper=pd.DataFrame({'key word from papers':lst_key_papers})\n",
    "    key_word=key_from_paper['key word from papers'].str.lower()\n",
    "    return key_word"
   ]
  },
  {
   "cell_type": "code",
   "execution_count": 6,
   "metadata": {},
   "outputs": [],
   "source": [
    "def title_key(papers):\n",
    "    '''\n",
    "    extracting key words for titles of article\n",
    "    \n",
    "    Arg:\n",
    "        papers (dict): full information of articles\n",
    "        \n",
    "    return:\n",
    "        key_word (Pandas Series): list of key words\n",
    "    '''\n",
    "    \n",
    "    \n",
    "    titles=[i['MedlineCitation']['Article']['ArticleTitle'].lower()\\\n",
    "            .replace(',','').replace('.','').replace(':', '').replace('?','')\\\n",
    "            .replace('<sub>', '').replace('</sub>','').replace('<sup>','').replace('</sup>','')\\\n",
    "            .replace('<i>','').replace('</i>','')\\\n",
    "            .replace(search_word.lower(),'') for i in papers['PubmedArticle']]\n",
    "    tfidf=TfidfVectorizer(ngram_range=(2,2),stop_words='english')\n",
    "    X=tfidf.fit_transform(titles)\n",
    "    tfidf_df=pd.DataFrame(X.todense(), columns=sorted(tfidf.vocabulary_))\n",
    "    key_rank=tfidf_df.sum().sort_values(ascending=False)\n",
    "    \n",
    "    return key_rank\n"
   ]
  },
  {
   "cell_type": "code",
   "execution_count": 7,
   "metadata": {},
   "outputs": [],
   "source": [
    "def Abstract_key(papers):\n",
    "    '''\n",
    "    extracting key words for the abstract\n",
    "    \n",
    "    Arg:\n",
    "        papers (dict): full information of articles\n",
    "        \n",
    "    return:\n",
    "        key_word (Pandas Series): list of key words\n",
    "    '''\n",
    "    \n",
    "    \n",
    "    abstract_key=[]\n",
    "    for i in papers['PubmedArticle']:\n",
    "        try:\n",
    "            abstract_key.append(i['MedlineCitation']['Article']['Abstract']['AbstractText'][0].lower()\\\n",
    "            .replace(',','').replace('.','').replace(':', '').replace('?','')\\\n",
    "            .replace('<sub>', '').replace('</sub>','').replace('<sup>','').replace('</sup>','')\\\n",
    "            .replace('<i>','').replace('</i>','').replace(search_word.lower(),''))\n",
    "        except:\n",
    "            continue\n",
    "    tfidf=TfidfVectorizer(ngram_range=(2,2),stop_words='english')\n",
    "    X=tfidf.fit_transform(abstract_key)\n",
    "    tfidf_df=pd.DataFrame(X.todense(), columns=sorted(tfidf.vocabulary_))\n",
    "    key_rank=tfidf_df.sum().sort_values(ascending=False)\n",
    "    \n",
    "    return key_rank"
   ]
  },
  {
   "cell_type": "code",
   "execution_count": 8,
   "metadata": {},
   "outputs": [],
   "source": [
    "search_word='bioactive'"
   ]
  },
  {
   "cell_type": "code",
   "execution_count": 9,
   "metadata": {
    "scrolled": true
   },
   "outputs": [],
   "source": [
    "results = search(search_word)\n",
    "id_list = results['IdList']\n",
    "papers = fetch_details(id_list)"
   ]
  },
  {
   "cell_type": "code",
   "execution_count": null,
   "metadata": {},
   "outputs": [],
   "source": []
  },
  {
   "cell_type": "markdown",
   "metadata": {},
   "source": [
    "# Author List"
   ]
  },
  {
   "cell_type": "code",
   "execution_count": 10,
   "metadata": {
    "scrolled": true
   },
   "outputs": [
    {
     "data": {
      "text/html": [
       "<div>\n",
       "<style scoped>\n",
       "    .dataframe tbody tr th:only-of-type {\n",
       "        vertical-align: middle;\n",
       "    }\n",
       "\n",
       "    .dataframe tbody tr th {\n",
       "        vertical-align: top;\n",
       "    }\n",
       "\n",
       "    .dataframe thead th {\n",
       "        text-align: right;\n",
       "    }\n",
       "</style>\n",
       "<table border=\"1\" class=\"dataframe\">\n",
       "  <thead>\n",
       "    <tr style=\"text-align: right;\">\n",
       "      <th></th>\n",
       "      <th>ForeName</th>\n",
       "      <th>LastName</th>\n",
       "      <th>count</th>\n",
       "      <th>Google Scholar</th>\n",
       "    </tr>\n",
       "  </thead>\n",
       "  <tbody>\n",
       "    <tr>\n",
       "      <th>0</th>\n",
       "      <td>Aldo R</td>\n",
       "      <td>Boccaccini</td>\n",
       "      <td>33</td>\n",
       "      <td>https://scholar.google.co.kr/scholar?hl=ko&amp;as_sdt=0%2C5&amp;q=Aldo+R+Boccaccini+review&amp;oq=</td>\n",
       "    </tr>\n",
       "    <tr>\n",
       "      <th>1</th>\n",
       "      <td>Francesco</td>\n",
       "      <td>Baino</td>\n",
       "      <td>12</td>\n",
       "      <td>https://scholar.google.co.kr/scholar?hl=ko&amp;as_sdt=0%2C5&amp;q=Francesco+Baino+review&amp;oq=</td>\n",
       "    </tr>\n",
       "    <tr>\n",
       "      <th>2</th>\n",
       "      <td>Jiang</td>\n",
       "      <td>Chang</td>\n",
       "      <td>10</td>\n",
       "      <td>https://scholar.google.co.kr/scholar?hl=ko&amp;as_sdt=0%2C5&amp;q=Jiang+Chang+review&amp;oq=</td>\n",
       "    </tr>\n",
       "    <tr>\n",
       "      <th>3</th>\n",
       "      <td>Mohamed N</td>\n",
       "      <td>Rahaman</td>\n",
       "      <td>10</td>\n",
       "      <td>https://scholar.google.co.kr/scholar?hl=ko&amp;as_sdt=0%2C5&amp;q=Mohamed+N+Rahaman+review&amp;oq=</td>\n",
       "    </tr>\n",
       "    <tr>\n",
       "      <th>4</th>\n",
       "      <td>Julian R</td>\n",
       "      <td>Jones</td>\n",
       "      <td>9</td>\n",
       "      <td>https://scholar.google.co.kr/scholar?hl=ko&amp;as_sdt=0%2C5&amp;q=Julian+R+Jones+review&amp;oq=</td>\n",
       "    </tr>\n",
       "    <tr>\n",
       "      <th>5</th>\n",
       "      <td>Chengtie</td>\n",
       "      <td>Wu</td>\n",
       "      <td>9</td>\n",
       "      <td>https://scholar.google.co.kr/scholar?hl=ko&amp;as_sdt=0%2C5&amp;q=Chengtie+Wu+review&amp;oq=</td>\n",
       "    </tr>\n",
       "    <tr>\n",
       "      <th>6</th>\n",
       "      <td>Wenhai</td>\n",
       "      <td>Huang</td>\n",
       "      <td>9</td>\n",
       "      <td>https://scholar.google.co.kr/scholar?hl=ko&amp;as_sdt=0%2C5&amp;q=Wenhai+Huang+review&amp;oq=</td>\n",
       "    </tr>\n",
       "    <tr>\n",
       "      <th>7</th>\n",
       "      <td>Bo</td>\n",
       "      <td>Lei</td>\n",
       "      <td>8</td>\n",
       "      <td>https://scholar.google.co.kr/scholar?hl=ko&amp;as_sdt=0%2C5&amp;q=Bo+Lei+review&amp;oq=</td>\n",
       "    </tr>\n",
       "    <tr>\n",
       "      <th>8</th>\n",
       "      <td>Hui</td>\n",
       "      <td>Wang</td>\n",
       "      <td>7</td>\n",
       "      <td>https://scholar.google.co.kr/scholar?hl=ko&amp;as_sdt=0%2C5&amp;q=Hui+Wang+review&amp;oq=</td>\n",
       "    </tr>\n",
       "    <tr>\n",
       "      <th>9</th>\n",
       "      <td>Robert G</td>\n",
       "      <td>Hill</td>\n",
       "      <td>7</td>\n",
       "      <td>https://scholar.google.co.kr/scholar?hl=ko&amp;as_sdt=0%2C5&amp;q=Robert+G+Hill+review&amp;oq=</td>\n",
       "    </tr>\n",
       "  </tbody>\n",
       "</table>\n",
       "</div>"
      ],
      "text/plain": [
       "    ForeName    LastName  count  \\\n",
       "0     Aldo R  Boccaccini     33   \n",
       "1  Francesco       Baino     12   \n",
       "2      Jiang       Chang     10   \n",
       "3  Mohamed N     Rahaman     10   \n",
       "4   Julian R       Jones      9   \n",
       "5   Chengtie          Wu      9   \n",
       "6     Wenhai       Huang      9   \n",
       "7         Bo         Lei      8   \n",
       "8        Hui        Wang      7   \n",
       "9   Robert G        Hill      7   \n",
       "\n",
       "                                                                           Google Scholar  \n",
       "0  https://scholar.google.co.kr/scholar?hl=ko&as_sdt=0%2C5&q=Aldo+R+Boccaccini+review&oq=  \n",
       "1    https://scholar.google.co.kr/scholar?hl=ko&as_sdt=0%2C5&q=Francesco+Baino+review&oq=  \n",
       "2        https://scholar.google.co.kr/scholar?hl=ko&as_sdt=0%2C5&q=Jiang+Chang+review&oq=  \n",
       "3  https://scholar.google.co.kr/scholar?hl=ko&as_sdt=0%2C5&q=Mohamed+N+Rahaman+review&oq=  \n",
       "4     https://scholar.google.co.kr/scholar?hl=ko&as_sdt=0%2C5&q=Julian+R+Jones+review&oq=  \n",
       "5        https://scholar.google.co.kr/scholar?hl=ko&as_sdt=0%2C5&q=Chengtie+Wu+review&oq=  \n",
       "6       https://scholar.google.co.kr/scholar?hl=ko&as_sdt=0%2C5&q=Wenhai+Huang+review&oq=  \n",
       "7             https://scholar.google.co.kr/scholar?hl=ko&as_sdt=0%2C5&q=Bo+Lei+review&oq=  \n",
       "8           https://scholar.google.co.kr/scholar?hl=ko&as_sdt=0%2C5&q=Hui+Wang+review&oq=  \n",
       "9      https://scholar.google.co.kr/scholar?hl=ko&as_sdt=0%2C5&q=Robert+G+Hill+review&oq=  "
      ]
     },
     "execution_count": 10,
     "metadata": {},
     "output_type": "execute_result"
    }
   ],
   "source": [
    "result=Author_list(papers)\n",
    "result"
   ]
  },
  {
   "cell_type": "code",
   "execution_count": 11,
   "metadata": {},
   "outputs": [
    {
     "data": {
      "text/plain": [
       "0    https://scholar.google.co.kr/scholar?hl=ko&as_sdt=0%2C5&q=Aldo+R+Boccaccini+review&oq=\n",
       "1      https://scholar.google.co.kr/scholar?hl=ko&as_sdt=0%2C5&q=Francesco+Baino+review&oq=\n",
       "2          https://scholar.google.co.kr/scholar?hl=ko&as_sdt=0%2C5&q=Jiang+Chang+review&oq=\n",
       "3    https://scholar.google.co.kr/scholar?hl=ko&as_sdt=0%2C5&q=Mohamed+N+Rahaman+review&oq=\n",
       "4       https://scholar.google.co.kr/scholar?hl=ko&as_sdt=0%2C5&q=Julian+R+Jones+review&oq=\n",
       "5          https://scholar.google.co.kr/scholar?hl=ko&as_sdt=0%2C5&q=Chengtie+Wu+review&oq=\n",
       "6         https://scholar.google.co.kr/scholar?hl=ko&as_sdt=0%2C5&q=Wenhai+Huang+review&oq=\n",
       "7               https://scholar.google.co.kr/scholar?hl=ko&as_sdt=0%2C5&q=Bo+Lei+review&oq=\n",
       "8             https://scholar.google.co.kr/scholar?hl=ko&as_sdt=0%2C5&q=Hui+Wang+review&oq=\n",
       "9        https://scholar.google.co.kr/scholar?hl=ko&as_sdt=0%2C5&q=Robert+G+Hill+review&oq=\n",
       "Name: Google Scholar, dtype: object"
      ]
     },
     "execution_count": 11,
     "metadata": {},
     "output_type": "execute_result"
    }
   ],
   "source": [
    "result['Google Scholar']"
   ]
  },
  {
   "cell_type": "markdown",
   "metadata": {},
   "source": [
    "# Key Word List"
   ]
  },
  {
   "cell_type": "code",
   "execution_count": 12,
   "metadata": {
    "scrolled": true
   },
   "outputs": [],
   "source": [
    "key_paper_lst=key_from_papers(papers)"
   ]
  },
  {
   "cell_type": "code",
   "execution_count": 13,
   "metadata": {},
   "outputs": [
    {
     "data": {
      "text/plain": [
       "bioactive glass               141\n",
       "bioactive compounds           117\n",
       "bioactive peptides             53\n",
       "bone regeneration              34\n",
       "bioactivity                    33\n",
       "antioxidant activity           24\n",
       "scaffold                       23\n",
       "bioactive                      21\n",
       "bioactive glasses              20\n",
       "angiogenesis                   20\n",
       "tissue engineering             19\n",
       "strontium                      19\n",
       "antioxidant                    18\n",
       "bone tissue engineering        18\n",
       "scaffolds                      16\n",
       "bioactive peptide              16\n",
       "cytotoxicity                   16\n",
       "osteogenesis                   16\n",
       "mechanical properties          15\n",
       "mesoporous bioactive glass     14\n",
       "Name: key word from papers, dtype: int64"
      ]
     },
     "execution_count": 13,
     "metadata": {},
     "output_type": "execute_result"
    }
   ],
   "source": [
    "key_paper_lst.value_counts().head(20)"
   ]
  },
  {
   "cell_type": "markdown",
   "metadata": {},
   "source": [
    "# Key Words from Title"
   ]
  },
  {
   "cell_type": "code",
   "execution_count": 14,
   "metadata": {
    "scrolled": false
   },
   "outputs": [
    {
     "data": {
      "text/plain": [
       "tissue engineering       7.612911\n",
       "bone tissue              5.811692\n",
       "bone regeneration        5.673898\n",
       "mesoporous glass         5.290012\n",
       "antioxidant activity     5.029740\n",
       "mass spectrometry        4.442655\n",
       "derived peptides         4.416204\n",
       "glass scaffolds          4.291390\n",
       "compounds antioxidant    4.109488\n",
       "glass nanoparticles      3.964210\n",
       "extraction compounds     3.541104\n",
       "scaffolds bone           3.540254\n",
       "stem cells               3.465676\n",
       "liquid chromatography    3.188447\n",
       "glass based              3.153830\n",
       "mechanical properties    3.147539\n",
       "natural products         3.010828\n",
       "containing glass         2.935943\n",
       "composite scaffolds      2.794192\n",
       "ultrasound assisted      2.785950\n",
       "dtype: float64"
      ]
     },
     "execution_count": 14,
     "metadata": {},
     "output_type": "execute_result"
    }
   ],
   "source": [
    "key_title=title_key(papers)\n",
    "key_title[:20]"
   ]
  },
  {
   "cell_type": "code",
   "execution_count": 15,
   "metadata": {},
   "outputs": [
    {
     "data": {
      "text/plain": [
       "tissue engineering             26.116043\n",
       "bone tissue                    19.610974\n",
       "bone regeneration              19.113334\n",
       "mesoporous glass               17.726933\n",
       "antioxidant activity           16.786967\n",
       "mass spectrometry              14.666719\n",
       "derived peptides               14.571193\n",
       "glass scaffolds                14.120427\n",
       "compounds antioxidant          13.463494\n",
       "glass nanoparticles            12.938822\n",
       "extraction compounds           11.410782\n",
       "scaffolds bone                 11.407716\n",
       "stem cells                     11.138376\n",
       "liquid chromatography          10.137169\n",
       "glass based                    10.012150\n",
       "mechanical properties           9.989430\n",
       "natural products                9.495701\n",
       "containing glass                9.225256\n",
       "composite scaffolds             8.713326\n",
       "ultrasound assisted             8.683560\n",
       "wound healing                   8.460297\n",
       "traditional chinese             8.142179\n",
       "bone repair                     8.065522\n",
       "sol gel                         7.404070\n",
       "food derived                    7.178949\n",
       "mesenchymal stem                6.872660\n",
       "systematic review               6.813157\n",
       "performance liquid              6.576516\n",
       "glass ceramics                  6.499072\n",
       "45s5 glass                      6.288176\n",
       "                                 ...    \n",
       "pharmacokinetic tissue         -0.642435\n",
       "herb interactions              -0.642435\n",
       "distribution excretion         -0.642435\n",
       "willd scutellaria              -0.642435\n",
       "excretion studies              -0.642435\n",
       "based pharmacokinetic          -0.642435\n",
       "simultaneous determinations    -0.642435\n",
       "lf willd                       -0.642435\n",
       "extracts lc                    -0.642435\n",
       "catechu lf                     -0.642435\n",
       "ckd rat                        -0.651015\n",
       "couple extract                 -0.651015\n",
       "libosch herb                   -0.651015\n",
       "cornus officinalis             -0.651015\n",
       "sieb rehmannia                 -0.651015\n",
       "urine feces                    -0.651015\n",
       "feces following                -0.651015\n",
       "profiling comparison           -0.651015\n",
       "normal ckd                     -0.651015\n",
       "components normal              -0.651015\n",
       "rehmannia glutinosa            -0.651015\n",
       "officinalis sieb               -0.651015\n",
       "comparison major               -0.651015\n",
       "administration cornus          -0.651015\n",
       "plasma urine                   -0.651015\n",
       "glutinosa libosch              -0.651015\n",
       "following oral                 -0.651015\n",
       "based metabolic                -0.651015\n",
       "metabolic profiling            -0.651015\n",
       "herb couple                    -0.651015\n",
       "Length: 7882, dtype: float64"
      ]
     },
     "execution_count": 15,
     "metadata": {},
     "output_type": "execute_result"
    }
   ],
   "source": [
    "(key_title-key_title.mean())/key_title.std()"
   ]
  },
  {
   "cell_type": "markdown",
   "metadata": {},
   "source": [
    "# Key Words from Abstract"
   ]
  },
  {
   "cell_type": "code",
   "execution_count": 16,
   "metadata": {},
   "outputs": [],
   "source": [
    "key_abstract=Abstract_key(papers)"
   ]
  },
  {
   "cell_type": "code",
   "execution_count": 17,
   "metadata": {
    "scrolled": false
   },
   "outputs": [
    {
     "data": {
      "text/plain": [
       "tissue engineering       4.778234\n",
       "antioxidant activity     4.454818\n",
       "bone regeneration        4.332478\n",
       "bone tissue              4.145507\n",
       "mechanical properties    4.130609\n",
       "body fluid               3.497098\n",
       "anti inflammatory        3.390992\n",
       "simulated body           3.330787\n",
       "sol gel                  3.187613\n",
       "stem cells               3.185462\n",
       "aim study                3.128373\n",
       "present study            3.106228\n",
       "fatty acids              2.984774\n",
       "glass nanoparticles      2.937820\n",
       "bone defects             2.912652\n",
       "mass spectrometry        2.660493\n",
       "liquid chromatography    2.640712\n",
       "phenolic compounds       2.565615\n",
       "natural products         2.550389\n",
       "scanning electron        2.526887\n",
       "dtype: float64"
      ]
     },
     "execution_count": 17,
     "metadata": {},
     "output_type": "execute_result"
    }
   ],
   "source": [
    "key_abstract[:20]"
   ]
  },
  {
   "cell_type": "code",
   "execution_count": 18,
   "metadata": {
    "scrolled": true
   },
   "outputs": [
    {
     "data": {
      "text/plain": [
       "tissue engineering         41.664670\n",
       "antioxidant activity       38.776298\n",
       "bone regeneration          37.683710\n",
       "bone tissue                36.013902\n",
       "mechanical properties      35.880850\n",
       "body fluid                 30.223090\n",
       "anti inflammatory          29.275479\n",
       "simulated body             28.737803\n",
       "sol gel                    27.459142\n",
       "stem cells                 27.439928\n",
       "aim study                  26.930079\n",
       "present study              26.732305\n",
       "fatty acids                25.647628\n",
       "glass nanoparticles        25.228288\n",
       "bone defects               25.003515\n",
       "mass spectrometry          22.751531\n",
       "liquid chromatography      22.574876\n",
       "phenolic compounds         21.904200\n",
       "natural products           21.768220\n",
       "scanning electron          21.558330\n",
       "electron microscopy        21.147168\n",
       "results showed             21.009006\n",
       "glass scaffolds            20.961547\n",
       "derived peptides           20.662426\n",
       "human health               19.999477\n",
       "study aimed                19.611376\n",
       "traditional chinese        19.534592\n",
       "antibacterial activity     19.475565\n",
       "health benefits            19.254144\n",
       "widely used                19.206523\n",
       "                             ...    \n",
       "significantly mice         -0.724837\n",
       "staining distribution      -0.724837\n",
       "02 edta                    -0.724837\n",
       "mixture 25                 -0.724837\n",
       "loose arranged             -0.724837\n",
       "skin mouse                 -0.724837\n",
       "skin collected             -0.724837\n",
       "cultured 1292              -0.724837\n",
       "mice bone                  -0.724837\n",
       "degrees mice               -0.724837\n",
       "detected cell              -0.724837\n",
       "elution 24                 -0.724837\n",
       "mice collected             -0.724837\n",
       "disorderly continuity      -0.724837\n",
       "better dimensional         -0.724837\n",
       "according random           -0.724837\n",
       "investigate preparation    -0.724837\n",
       "measurement test           -0.724837\n",
       "microscope tissue          -0.724837\n",
       "microscope bone            -0.724837\n",
       "higher mice                -0.724837\n",
       "cultured detected          -0.724837\n",
       "1292 0656                  -0.724837\n",
       "better mice                -0.724837\n",
       "maintained good            -0.724837\n",
       "bmscs dadm                 -0.724837\n",
       "bmscs evenly               -0.724837\n",
       "prepared transplanting     -0.724837\n",
       "mixture 02                 -0.724837\n",
       "cells methods              -0.724837\n",
       "Length: 82686, dtype: float64"
      ]
     },
     "execution_count": 18,
     "metadata": {},
     "output_type": "execute_result"
    }
   ],
   "source": [
    "(key_abstract-key_abstract.mean())/key_abstract.std()"
   ]
  },
  {
   "cell_type": "code",
   "execution_count": 24,
   "metadata": {},
   "outputs": [
    {
     "data": {
      "text/plain": [
       "'bioactive tissue engineering'"
      ]
     },
     "execution_count": 24,
     "metadata": {},
     "output_type": "execute_result"
    }
   ],
   "source": [
    "search_word+' '+key_abstract.index[0]"
   ]
  },
  {
   "cell_type": "markdown",
   "metadata": {},
   "source": [
    "Keyword used in search + Keyword suggeted by user\n",
    "> search word: tissue engineering\n",
    "\n",
    "> keyword suggestion: stem cell\n",
    "\n",
    "> result: **stem cell tissue engineering**\n"
   ]
  },
  {
   "cell_type": "markdown",
   "metadata": {},
   "source": [
    "LDA\n",
    "word Vec\n",
    "pyldavis\n",
    "\n",
    "pyldavis\n",
    "\n",
    "textrank\n",
    "lexrank"
   ]
  }
 ],
 "metadata": {
  "kernelspec": {
   "display_name": "Python 3",
   "language": "python",
   "name": "python3"
  },
  "language_info": {
   "codemirror_mode": {
    "name": "ipython",
    "version": 3
   },
   "file_extension": ".py",
   "mimetype": "text/x-python",
   "name": "python",
   "nbconvert_exporter": "python",
   "pygments_lexer": "ipython3",
   "version": "3.7.3"
  }
 },
 "nbformat": 4,
 "nbformat_minor": 2
}
