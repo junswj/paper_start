{
 "cells": [
  {
   "cell_type": "code",
   "execution_count": 1,
   "metadata": {},
   "outputs": [],
   "source": [
    "from Bio import Entrez"
   ]
  },
  {
   "cell_type": "code",
   "execution_count": 2,
   "metadata": {},
   "outputs": [],
   "source": [
    "import pprint"
   ]
  },
  {
   "cell_type": "code",
   "execution_count": 3,
   "metadata": {},
   "outputs": [],
   "source": [
    "import pandas as pd\n",
    "from pandas.io.json import json_normalize"
   ]
  },
  {
   "cell_type": "code",
   "execution_count": 4,
   "metadata": {},
   "outputs": [],
   "source": [
    "def search(query):\n",
    "    Entrez.email = 'sxxize@gmail.com'\n",
    "    handle = Entrez.esearch(db='pubmed', \n",
    "                            sort='relevance', \n",
    "                            retmax='5',\n",
    "                            retmode='xml', \n",
    "                            term=query)\n",
    "    results = Entrez.read(handle)\n",
    "    return results"
   ]
  },
  {
   "cell_type": "code",
   "execution_count": 5,
   "metadata": {},
   "outputs": [],
   "source": [
    "def fetch_details(id_list):\n",
    "    ids = ','.join(id_list)\n",
    "    Entrez.email = 'sxxize@gmail.com'\n",
    "    handle = Entrez.efetch(db='pubmed',\n",
    "                           retmode='xml',\n",
    "                           id=ids)\n",
    "    results = Entrez.read(handle)\n",
    "    return results"
   ]
  },
  {
   "cell_type": "code",
   "execution_count": 6,
   "metadata": {
    "scrolled": true
   },
   "outputs": [
    {
     "name": "stdout",
     "output_type": "stream",
     "text": [
      "1) Preferential binding of positive nanoparticles on cell membranes is due to electrostatic interactions: A too simplistic explanation that does not take into account the nanoparticle protein corona.\n",
      "2) Magnetic nanoparticles to recover cellular organelles and study the time resolved nanoparticle-cell interactome throughout uptake.\n",
      "3) Peritumoral implantation of hydrogel-containing nanoparticles and losartan for enhanced nanoparticle penetration and antitumor effect.\n",
      "4) Monitoring of the Cytoskeleton-Dependent Intracellular Trafficking of Fluorescent Iron Oxide Nanoparticles by Nanoparticle Pulse-Chase Experiments in C6 Glioma Cells.\n",
      "5) Nanoparticle Tracking Analysis for Determination of Hydrodynamic Diameter, Concentration, and Zeta-Potential of Polyplex Nanoparticles.\n"
     ]
    }
   ],
   "source": [
    "results = search('nanoparticle')\n",
    "id_list = results['IdList']\n",
    "papers = fetch_details(id_list)\n",
    "for i, paper in enumerate(papers['PubmedArticle']):\n",
    "    print(\"%d) %s\" % (i+1, paper['MedlineCitation']['Article']['ArticleTitle']))"
   ]
  },
  {
   "cell_type": "code",
   "execution_count": 7,
   "metadata": {
    "scrolled": true
   },
   "outputs": [
    {
     "data": {
      "text/plain": [
       "dict_keys(['PubmedArticle', 'PubmedBookArticle'])"
      ]
     },
     "execution_count": 7,
     "metadata": {},
     "output_type": "execute_result"
    }
   ],
   "source": [
    "papers.keys()"
   ]
  },
  {
   "cell_type": "code",
   "execution_count": 8,
   "metadata": {
    "scrolled": true
   },
   "outputs": [
    {
     "data": {
      "text/plain": [
       "dict_keys(['MedlineCitation', 'PubmedData'])"
      ]
     },
     "execution_count": 8,
     "metadata": {},
     "output_type": "execute_result"
    }
   ],
   "source": [
    "papers['PubmedArticle'][0].keys()"
   ]
  },
  {
   "cell_type": "code",
   "execution_count": 9,
   "metadata": {},
   "outputs": [
    {
     "data": {
      "text/plain": [
       "dict_keys(['OtherAbstract', 'GeneralNote', 'OtherID', 'CitationSubset', 'KeywordList', 'SpaceFlightMission', 'PMID', 'DateCompleted', 'DateRevised', 'Article', 'MedlineJournalInfo', 'ChemicalList', 'MeshHeadingList'])"
      ]
     },
     "execution_count": 9,
     "metadata": {},
     "output_type": "execute_result"
    }
   ],
   "source": [
    "papers['PubmedArticle'][0]['MedlineCitation'].keys()"
   ]
  },
  {
   "cell_type": "code",
   "execution_count": 10,
   "metadata": {
    "scrolled": false
   },
   "outputs": [],
   "source": [
    "#pprint.pprint(papers['PubmedArticle'][0]['MedlineCitation'])"
   ]
  },
  {
   "cell_type": "markdown",
   "metadata": {},
   "source": [
    "# Key Word List"
   ]
  },
  {
   "cell_type": "code",
   "execution_count": 11,
   "metadata": {
    "scrolled": true
   },
   "outputs": [
    {
     "data": {
      "text/plain": [
       "['Cellular uptake',\n",
       " 'Nanoparticle',\n",
       " 'Nanoparticle/cell interaction',\n",
       " 'Protein corona']"
      ]
     },
     "execution_count": 11,
     "metadata": {},
     "output_type": "execute_result"
    }
   ],
   "source": [
    "[str(i) for i in papers['PubmedArticle'][0]['MedlineCitation']['KeywordList'][0]]"
   ]
  },
  {
   "cell_type": "markdown",
   "metadata": {},
   "source": [
    "# Author List"
   ]
  },
  {
   "cell_type": "code",
   "execution_count": 12,
   "metadata": {},
   "outputs": [
    {
     "data": {
      "text/plain": [
       "dict_keys(['Language', 'ELocationID', 'ArticleDate', 'Journal', 'ArticleTitle', 'Pagination', 'Abstract', 'AuthorList', 'PublicationTypeList'])"
      ]
     },
     "execution_count": 12,
     "metadata": {},
     "output_type": "execute_result"
    }
   ],
   "source": [
    "papers['PubmedArticle'][0]['MedlineCitation']['Article'].keys()"
   ]
  },
  {
   "cell_type": "code",
   "execution_count": 13,
   "metadata": {},
   "outputs": [
    {
     "data": {
      "text/plain": [
       "ListElement([DictElement({'Identifier': [], 'AffiliationInfo': [{'Identifier': [], 'Affiliation': 'Centre For BioNano Interactions (CBNI), School of Chemistry and Chemical Biology, University College Dublin, Belfield, Dublin 4, Ireland.'}], 'LastName': 'Bertoli', 'ForeName': 'Filippo', 'Initials': 'F'}, attributes={'ValidYN': 'Y'}), DictElement({'Identifier': [], 'AffiliationInfo': [], 'LastName': 'Davies', 'ForeName': 'Gemma-Louise', 'Initials': 'GL'}, attributes={'ValidYN': 'Y'}), DictElement({'Identifier': [], 'AffiliationInfo': [], 'LastName': 'Monopoli', 'ForeName': 'Marco P', 'Initials': 'MP'}, attributes={'ValidYN': 'Y'}), DictElement({'Identifier': [], 'AffiliationInfo': [], 'LastName': 'Moloney', 'ForeName': 'Micheal', 'Initials': 'M'}, attributes={'ValidYN': 'Y'}), DictElement({'Identifier': [], 'AffiliationInfo': [], 'LastName': \"Gun'ko\", 'ForeName': 'Yurii K', 'Initials': 'YK'}, attributes={'ValidYN': 'Y'}), DictElement({'Identifier': [], 'AffiliationInfo': [], 'LastName': 'Salvati', 'ForeName': 'Anna', 'Initials': 'A'}, attributes={'ValidYN': 'Y'}), DictElement({'Identifier': [], 'AffiliationInfo': [], 'LastName': 'Dawson', 'ForeName': 'Kenneth A', 'Initials': 'KA'}, attributes={'ValidYN': 'Y'})], attributes={'CompleteYN': 'Y'})"
      ]
     },
     "execution_count": 13,
     "metadata": {},
     "output_type": "execute_result"
    }
   ],
   "source": [
    "papers['PubmedArticle'][1]['MedlineCitation']['Article']['AuthorList']"
   ]
  },
  {
   "cell_type": "code",
   "execution_count": 14,
   "metadata": {},
   "outputs": [],
   "source": [
    "paper_author_lst=[i['MedlineCitation']['Article']['AuthorList'] for i in papers['PubmedArticle']]"
   ]
  },
  {
   "cell_type": "code",
   "execution_count": 15,
   "metadata": {},
   "outputs": [
    {
     "data": {
      "text/plain": [
       "5"
      ]
     },
     "execution_count": 15,
     "metadata": {},
     "output_type": "execute_result"
    }
   ],
   "source": [
    "len(paper_author_lst)"
   ]
  },
  {
   "cell_type": "code",
   "execution_count": 24,
   "metadata": {},
   "outputs": [
    {
     "data": {
      "text/html": [
       "<div>\n",
       "<style scoped>\n",
       "    .dataframe tbody tr th:only-of-type {\n",
       "        vertical-align: middle;\n",
       "    }\n",
       "\n",
       "    .dataframe tbody tr th {\n",
       "        vertical-align: top;\n",
       "    }\n",
       "\n",
       "    .dataframe thead th {\n",
       "        text-align: right;\n",
       "    }\n",
       "</style>\n",
       "<table border=\"1\" class=\"dataframe\">\n",
       "  <thead>\n",
       "    <tr style=\"text-align: right;\">\n",
       "      <th></th>\n",
       "      <th>AffiliationInfo</th>\n",
       "      <th>ForeName</th>\n",
       "      <th>Identifier</th>\n",
       "      <th>Initials</th>\n",
       "      <th>LastName</th>\n",
       "    </tr>\n",
       "  </thead>\n",
       "  <tbody>\n",
       "    <tr>\n",
       "      <th>0</th>\n",
       "      <td>[{'Identifier': [], 'Affiliation': 'Centre For...</td>\n",
       "      <td>Filippo</td>\n",
       "      <td>[]</td>\n",
       "      <td>F</td>\n",
       "      <td>Bertoli</td>\n",
       "    </tr>\n",
       "    <tr>\n",
       "      <th>1</th>\n",
       "      <td>[]</td>\n",
       "      <td>Gemma-Louise</td>\n",
       "      <td>[]</td>\n",
       "      <td>GL</td>\n",
       "      <td>Davies</td>\n",
       "    </tr>\n",
       "    <tr>\n",
       "      <th>2</th>\n",
       "      <td>[]</td>\n",
       "      <td>Marco P</td>\n",
       "      <td>[]</td>\n",
       "      <td>MP</td>\n",
       "      <td>Monopoli</td>\n",
       "    </tr>\n",
       "    <tr>\n",
       "      <th>3</th>\n",
       "      <td>[]</td>\n",
       "      <td>Micheal</td>\n",
       "      <td>[]</td>\n",
       "      <td>M</td>\n",
       "      <td>Moloney</td>\n",
       "    </tr>\n",
       "    <tr>\n",
       "      <th>4</th>\n",
       "      <td>[]</td>\n",
       "      <td>Yurii K</td>\n",
       "      <td>[]</td>\n",
       "      <td>YK</td>\n",
       "      <td>Gun'ko</td>\n",
       "    </tr>\n",
       "    <tr>\n",
       "      <th>5</th>\n",
       "      <td>[]</td>\n",
       "      <td>Anna</td>\n",
       "      <td>[]</td>\n",
       "      <td>A</td>\n",
       "      <td>Salvati</td>\n",
       "    </tr>\n",
       "    <tr>\n",
       "      <th>6</th>\n",
       "      <td>[]</td>\n",
       "      <td>Kenneth A</td>\n",
       "      <td>[]</td>\n",
       "      <td>KA</td>\n",
       "      <td>Dawson</td>\n",
       "    </tr>\n",
       "  </tbody>\n",
       "</table>\n",
       "</div>"
      ],
      "text/plain": [
       "                                     AffiliationInfo      ForeName Identifier  \\\n",
       "0  [{'Identifier': [], 'Affiliation': 'Centre For...       Filippo         []   \n",
       "1                                                 []  Gemma-Louise         []   \n",
       "2                                                 []       Marco P         []   \n",
       "3                                                 []       Micheal         []   \n",
       "4                                                 []       Yurii K         []   \n",
       "5                                                 []          Anna         []   \n",
       "6                                                 []     Kenneth A         []   \n",
       "\n",
       "  Initials  LastName  \n",
       "0        F   Bertoli  \n",
       "1       GL    Davies  \n",
       "2       MP  Monopoli  \n",
       "3        M   Moloney  \n",
       "4       YK    Gun'ko  \n",
       "5        A   Salvati  \n",
       "6       KA    Dawson  "
      ]
     },
     "execution_count": 24,
     "metadata": {},
     "output_type": "execute_result"
    }
   ],
   "source": [
    "[pd.DataFrame(paper_author_lst[1]),"
   ]
  },
  {
   "cell_type": "code",
   "execution_count": 25,
   "metadata": {},
   "outputs": [],
   "source": [
    "dfs=[pd.DataFrame(paper_author_lst[i]) for i in range(len(paper_author_lst))]"
   ]
  },
  {
   "cell_type": "code",
   "execution_count": 28,
   "metadata": {},
   "outputs": [
    {
     "data": {
      "text/html": [
       "<div>\n",
       "<style scoped>\n",
       "    .dataframe tbody tr th:only-of-type {\n",
       "        vertical-align: middle;\n",
       "    }\n",
       "\n",
       "    .dataframe tbody tr th {\n",
       "        vertical-align: top;\n",
       "    }\n",
       "\n",
       "    .dataframe thead th {\n",
       "        text-align: right;\n",
       "    }\n",
       "</style>\n",
       "<table border=\"1\" class=\"dataframe\">\n",
       "  <thead>\n",
       "    <tr style=\"text-align: right;\">\n",
       "      <th></th>\n",
       "      <th>AffiliationInfo</th>\n",
       "      <th>ForeName</th>\n",
       "      <th>Identifier</th>\n",
       "      <th>Initials</th>\n",
       "      <th>LastName</th>\n",
       "    </tr>\n",
       "  </thead>\n",
       "  <tbody>\n",
       "    <tr>\n",
       "      <th>0</th>\n",
       "      <td>[{'Identifier': [], 'Affiliation': 'Ecole Nati...</td>\n",
       "      <td>Valérie</td>\n",
       "      <td>[]</td>\n",
       "      <td>V</td>\n",
       "      <td>Forest</td>\n",
       "    </tr>\n",
       "    <tr>\n",
       "      <th>1</th>\n",
       "      <td>[{'Identifier': [], 'Affiliation': 'Ecole Nati...</td>\n",
       "      <td>Jérémie</td>\n",
       "      <td>[]</td>\n",
       "      <td>J</td>\n",
       "      <td>Pourchez</td>\n",
       "    </tr>\n",
       "    <tr>\n",
       "      <th>0</th>\n",
       "      <td>[{'Identifier': [], 'Affiliation': 'Centre For...</td>\n",
       "      <td>Filippo</td>\n",
       "      <td>[]</td>\n",
       "      <td>F</td>\n",
       "      <td>Bertoli</td>\n",
       "    </tr>\n",
       "    <tr>\n",
       "      <th>1</th>\n",
       "      <td>[]</td>\n",
       "      <td>Gemma-Louise</td>\n",
       "      <td>[]</td>\n",
       "      <td>GL</td>\n",
       "      <td>Davies</td>\n",
       "    </tr>\n",
       "    <tr>\n",
       "      <th>2</th>\n",
       "      <td>[]</td>\n",
       "      <td>Marco P</td>\n",
       "      <td>[]</td>\n",
       "      <td>MP</td>\n",
       "      <td>Monopoli</td>\n",
       "    </tr>\n",
       "    <tr>\n",
       "      <th>3</th>\n",
       "      <td>[]</td>\n",
       "      <td>Micheal</td>\n",
       "      <td>[]</td>\n",
       "      <td>M</td>\n",
       "      <td>Moloney</td>\n",
       "    </tr>\n",
       "    <tr>\n",
       "      <th>4</th>\n",
       "      <td>[]</td>\n",
       "      <td>Yurii K</td>\n",
       "      <td>[]</td>\n",
       "      <td>YK</td>\n",
       "      <td>Gun'ko</td>\n",
       "    </tr>\n",
       "    <tr>\n",
       "      <th>5</th>\n",
       "      <td>[]</td>\n",
       "      <td>Anna</td>\n",
       "      <td>[]</td>\n",
       "      <td>A</td>\n",
       "      <td>Salvati</td>\n",
       "    </tr>\n",
       "    <tr>\n",
       "      <th>6</th>\n",
       "      <td>[]</td>\n",
       "      <td>Kenneth A</td>\n",
       "      <td>[]</td>\n",
       "      <td>KA</td>\n",
       "      <td>Dawson</td>\n",
       "    </tr>\n",
       "    <tr>\n",
       "      <th>0</th>\n",
       "      <td>[{'Identifier': [], 'Affiliation': 'Department...</td>\n",
       "      <td>Haijun</td>\n",
       "      <td>[]</td>\n",
       "      <td>H</td>\n",
       "      <td>Shen</td>\n",
       "    </tr>\n",
       "    <tr>\n",
       "      <th>1</th>\n",
       "      <td>[{'Identifier': [], 'Affiliation': 'Department...</td>\n",
       "      <td>Qianqian</td>\n",
       "      <td>[]</td>\n",
       "      <td>Q</td>\n",
       "      <td>Gao</td>\n",
       "    </tr>\n",
       "    <tr>\n",
       "      <th>2</th>\n",
       "      <td>[{'Identifier': [], 'Affiliation': 'Department...</td>\n",
       "      <td>Qi</td>\n",
       "      <td>[]</td>\n",
       "      <td>Q</td>\n",
       "      <td>Ye</td>\n",
       "    </tr>\n",
       "    <tr>\n",
       "      <th>3</th>\n",
       "      <td>[{'Identifier': [], 'Affiliation': 'Department...</td>\n",
       "      <td>Shiyun</td>\n",
       "      <td>[]</td>\n",
       "      <td>S</td>\n",
       "      <td>Yang</td>\n",
       "    </tr>\n",
       "    <tr>\n",
       "      <th>4</th>\n",
       "      <td>[{'Identifier': [], 'Affiliation': 'Department...</td>\n",
       "      <td>Yuqian</td>\n",
       "      <td>[]</td>\n",
       "      <td>Y</td>\n",
       "      <td>Wu</td>\n",
       "    </tr>\n",
       "    <tr>\n",
       "      <th>5</th>\n",
       "      <td>[{'Identifier': [], 'Affiliation': 'Department...</td>\n",
       "      <td>Qin</td>\n",
       "      <td>[]</td>\n",
       "      <td>Q</td>\n",
       "      <td>Huang</td>\n",
       "    </tr>\n",
       "    <tr>\n",
       "      <th>6</th>\n",
       "      <td>[{'Identifier': [], 'Affiliation': 'Department...</td>\n",
       "      <td>Xiaona</td>\n",
       "      <td>[]</td>\n",
       "      <td>X</td>\n",
       "      <td>Wang</td>\n",
       "    </tr>\n",
       "    <tr>\n",
       "      <th>7</th>\n",
       "      <td>[{'Identifier': [], 'Affiliation': 'Department...</td>\n",
       "      <td>Zhenhua</td>\n",
       "      <td>[]</td>\n",
       "      <td>Z</td>\n",
       "      <td>Sun</td>\n",
       "    </tr>\n",
       "    <tr>\n",
       "      <th>0</th>\n",
       "      <td>[{'Identifier': [], 'Affiliation': 'Center for...</td>\n",
       "      <td>Wiebke</td>\n",
       "      <td>[]</td>\n",
       "      <td>W</td>\n",
       "      <td>Willmann</td>\n",
       "    </tr>\n",
       "    <tr>\n",
       "      <th>1</th>\n",
       "      <td>[{'Identifier': [], 'Affiliation': 'Center for...</td>\n",
       "      <td>Ralf</td>\n",
       "      <td>[http://orcid.org/0000-0001-7869-1305]</td>\n",
       "      <td>R</td>\n",
       "      <td>Dringen</td>\n",
       "    </tr>\n",
       "    <tr>\n",
       "      <th>0</th>\n",
       "      <td>[{'Identifier': [], 'Affiliation': 'Department...</td>\n",
       "      <td>David R</td>\n",
       "      <td>[]</td>\n",
       "      <td>DR</td>\n",
       "      <td>Wilson</td>\n",
       "    </tr>\n",
       "    <tr>\n",
       "      <th>1</th>\n",
       "      <td>[{'Identifier': [], 'Affiliation': 'Department...</td>\n",
       "      <td>Jordan J</td>\n",
       "      <td>[]</td>\n",
       "      <td>JJ</td>\n",
       "      <td>Green</td>\n",
       "    </tr>\n",
       "  </tbody>\n",
       "</table>\n",
       "</div>"
      ],
      "text/plain": [
       "                                     AffiliationInfo      ForeName  \\\n",
       "0  [{'Identifier': [], 'Affiliation': 'Ecole Nati...       Valérie   \n",
       "1  [{'Identifier': [], 'Affiliation': 'Ecole Nati...       Jérémie   \n",
       "0  [{'Identifier': [], 'Affiliation': 'Centre For...       Filippo   \n",
       "1                                                 []  Gemma-Louise   \n",
       "2                                                 []       Marco P   \n",
       "3                                                 []       Micheal   \n",
       "4                                                 []       Yurii K   \n",
       "5                                                 []          Anna   \n",
       "6                                                 []     Kenneth A   \n",
       "0  [{'Identifier': [], 'Affiliation': 'Department...        Haijun   \n",
       "1  [{'Identifier': [], 'Affiliation': 'Department...      Qianqian   \n",
       "2  [{'Identifier': [], 'Affiliation': 'Department...            Qi   \n",
       "3  [{'Identifier': [], 'Affiliation': 'Department...        Shiyun   \n",
       "4  [{'Identifier': [], 'Affiliation': 'Department...        Yuqian   \n",
       "5  [{'Identifier': [], 'Affiliation': 'Department...           Qin   \n",
       "6  [{'Identifier': [], 'Affiliation': 'Department...        Xiaona   \n",
       "7  [{'Identifier': [], 'Affiliation': 'Department...       Zhenhua   \n",
       "0  [{'Identifier': [], 'Affiliation': 'Center for...        Wiebke   \n",
       "1  [{'Identifier': [], 'Affiliation': 'Center for...          Ralf   \n",
       "0  [{'Identifier': [], 'Affiliation': 'Department...       David R   \n",
       "1  [{'Identifier': [], 'Affiliation': 'Department...      Jordan J   \n",
       "\n",
       "                               Identifier Initials  LastName  \n",
       "0                                      []        V    Forest  \n",
       "1                                      []        J  Pourchez  \n",
       "0                                      []        F   Bertoli  \n",
       "1                                      []       GL    Davies  \n",
       "2                                      []       MP  Monopoli  \n",
       "3                                      []        M   Moloney  \n",
       "4                                      []       YK    Gun'ko  \n",
       "5                                      []        A   Salvati  \n",
       "6                                      []       KA    Dawson  \n",
       "0                                      []        H      Shen  \n",
       "1                                      []        Q       Gao  \n",
       "2                                      []        Q        Ye  \n",
       "3                                      []        S      Yang  \n",
       "4                                      []        Y        Wu  \n",
       "5                                      []        Q     Huang  \n",
       "6                                      []        X      Wang  \n",
       "7                                      []        Z       Sun  \n",
       "0                                      []        W  Willmann  \n",
       "1  [http://orcid.org/0000-0001-7869-1305]        R   Dringen  \n",
       "0                                      []       DR    Wilson  \n",
       "1                                      []       JJ     Green  "
      ]
     },
     "execution_count": 28,
     "metadata": {},
     "output_type": "execute_result"
    }
   ],
   "source": [
    "pd.concat(dfs, axis=0)"
   ]
  },
  {
   "cell_type": "code",
   "execution_count": null,
   "metadata": {},
   "outputs": [],
   "source": []
  }
 ],
 "metadata": {
  "kernelspec": {
   "display_name": "Python 3",
   "language": "python",
   "name": "python3"
  },
  "language_info": {
   "codemirror_mode": {
    "name": "ipython",
    "version": 3
   },
   "file_extension": ".py",
   "mimetype": "text/x-python",
   "name": "python",
   "nbconvert_exporter": "python",
   "pygments_lexer": "ipython3",
   "version": "3.7.3"
  }
 },
 "nbformat": 4,
 "nbformat_minor": 2
}
