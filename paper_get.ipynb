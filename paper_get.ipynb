{
 "cells": [
  {
   "cell_type": "code",
   "execution_count": 1,
   "metadata": {},
   "outputs": [],
   "source": [
    "from Bio import Entrez"
   ]
  },
  {
   "cell_type": "code",
   "execution_count": 2,
   "metadata": {},
   "outputs": [],
   "source": [
    "import pprint"
   ]
  },
  {
   "cell_type": "code",
   "execution_count": 3,
   "metadata": {},
   "outputs": [],
   "source": [
    "import pandas as pd\n",
    "from pandas.io.json import json_normalize"
   ]
  },
  {
   "cell_type": "code",
   "execution_count": 4,
   "metadata": {},
   "outputs": [],
   "source": [
    "def search(query):\n",
    "    Entrez.email = 'sxxize@gmail.com'\n",
    "    handle = Entrez.esearch(db='pubmed', \n",
    "                            sort='relevance', \n",
    "                            retmax='20',\n",
    "                            retmode='xml', \n",
    "                            term=query)\n",
    "    results = Entrez.read(handle)\n",
    "    return results"
   ]
  },
  {
   "cell_type": "code",
   "execution_count": 5,
   "metadata": {},
   "outputs": [],
   "source": [
    "def fetch_details(id_list):\n",
    "    ids = ','.join(id_list)\n",
    "    Entrez.email = 'sxxize@gmail.com'\n",
    "    handle = Entrez.efetch(db='pubmed',\n",
    "                           retmode='xml',\n",
    "                           id=ids)\n",
    "    results = Entrez.read(handle)\n",
    "    return results"
   ]
  },
  {
   "cell_type": "code",
   "execution_count": 6,
   "metadata": {
    "scrolled": true
   },
   "outputs": [
    {
     "name": "stdout",
     "output_type": "stream",
     "text": [
      "1) Preferential binding of positive nanoparticles on cell membranes is due to electrostatic interactions: A too simplistic explanation that does not take into account the nanoparticle protein corona.\n",
      "2) Magnetic nanoparticles to recover cellular organelles and study the time resolved nanoparticle-cell interactome throughout uptake.\n",
      "3) Peritumoral implantation of hydrogel-containing nanoparticles and losartan for enhanced nanoparticle penetration and antitumor effect.\n",
      "4) Monitoring of the Cytoskeleton-Dependent Intracellular Trafficking of Fluorescent Iron Oxide Nanoparticles by Nanoparticle Pulse-Chase Experiments in C6 Glioma Cells.\n",
      "5) Nanoparticle Tracking Analysis for Determination of Hydrodynamic Diameter, Concentration, and Zeta-Potential of Polyplex Nanoparticles.\n",
      "6) Electrochemiluminescence observing the surface features of Ru-doped silica nanoparticles based on nanoparticle-ultramicroelectrode collision.\n",
      "7) Programmed Nanoparticle-Loaded Nanoparticles for Deep-Penetrating 3D Cancer Therapy.\n",
      "8) Synthesis of hafnium nanoparticles and hafnium nanoparticle films by gas condensation and energetic deposition.\n",
      "9) Application of nanoparticle tracking analysis for characterising the fate of engineered nanoparticles in sediment-water systems.\n",
      "10) Standardization of Nanoparticle Characterization: Methods for Testing Properties, Stability, and Functionality of Edible Nanoparticles.\n",
      "11) Adsorption mechanism of ZnO and CuO nanoparticles on two typical sludge EPS: Effect of nanoparticle diameter and fractional EPS polarity on binding.\n",
      "12) Ga-68 Nanoparticles and Ultra-small Nanoparticle: Next Generation of PET Radiopharmaceuticals?\n",
      "13) A single-step aerosol process for in-situ surface modification of nanoparticles: Preparation of stable aqueous nanoparticle suspensions.\n",
      "14) Effect of Nanoparticle Surface on the HPLC Elution Profile of Liposomal Nanoparticles.\n",
      "15) Rapid, Room Temperature Nanoparticle Drying and Low-Energy Reconstitution via Electrospinning.\n",
      "16) Adsorption of bovine serum albumin on silicon dioxide nanoparticles: Impact of pH on nanoparticle-protein interactions.\n",
      "17) The impact of gastrointestinal mucus on nanoparticle penetration - in vitro evaluation of mucus-penetrating nanoparticles for photodynamic therapy.\n",
      "18) Humid Heat Autoclaving of Hybrid Nanoparticles Achieved by Decreased Nanoparticle Concentration and Improved Nanoparticle Stability Using Medium Chain Triglycerides as a Modifier.\n",
      "19) Nanoparticle/siRNA-based therapy strategies in glioma: which nanoparticles, which siRNAs?\n",
      "20) A novel bioassay based on aptamer-functionalized magnetic nanoparticle for the detection of zearalenone using time resolved-fluorescence NaYF<sub>4</sub>: Ce/Tb nanoparticles as signal probe.\n"
     ]
    }
   ],
   "source": [
    "results = search('nanoparticle')\n",
    "id_list = results['IdList']\n",
    "papers = fetch_details(id_list)\n",
    "for i, paper in enumerate(papers['PubmedArticle']):\n",
    "    print(\"%d) %s\" % (i+1, paper['MedlineCitation']['Article']['ArticleTitle']))"
   ]
  },
  {
   "cell_type": "code",
   "execution_count": 7,
   "metadata": {
    "scrolled": true
   },
   "outputs": [
    {
     "data": {
      "text/plain": [
       "dict_keys(['PubmedBookArticle', 'PubmedArticle'])"
      ]
     },
     "execution_count": 7,
     "metadata": {},
     "output_type": "execute_result"
    }
   ],
   "source": [
    "papers.keys()"
   ]
  },
  {
   "cell_type": "code",
   "execution_count": 8,
   "metadata": {
    "scrolled": true
   },
   "outputs": [
    {
     "data": {
      "text/plain": [
       "dict_keys(['MedlineCitation', 'PubmedData'])"
      ]
     },
     "execution_count": 8,
     "metadata": {},
     "output_type": "execute_result"
    }
   ],
   "source": [
    "papers['PubmedArticle'][0].keys()"
   ]
  },
  {
   "cell_type": "code",
   "execution_count": 9,
   "metadata": {},
   "outputs": [
    {
     "data": {
      "text/plain": [
       "dict_keys(['KeywordList', 'SpaceFlightMission', 'CitationSubset', 'OtherID', 'OtherAbstract', 'GeneralNote', 'PMID', 'DateCompleted', 'DateRevised', 'Article', 'MedlineJournalInfo', 'ChemicalList', 'MeshHeadingList'])"
      ]
     },
     "execution_count": 9,
     "metadata": {},
     "output_type": "execute_result"
    }
   ],
   "source": [
    "papers['PubmedArticle'][0]['MedlineCitation'].keys()"
   ]
  },
  {
   "cell_type": "code",
   "execution_count": 14,
   "metadata": {
    "scrolled": false
   },
   "outputs": [
    {
     "name": "stdout",
     "output_type": "stream",
     "text": [
      "{'Article': {'Abstract': {'AbstractText': ['The internalization of nanoparticles by cells (and more broadly the nanoparticle/cell interaction) is a crucial issue both for biomedical applications (for the design of nanocarriers with enhanced cellular uptake to reach their intracellular therapeutic targets) and in a nanosafety context (as the internalized dose is one of the key factors in cytotoxicity). Many parameters can influence the nanoparticle/cell interaction, among them, the nanoparticle physico-chemical features, and especially the surface charge. It is generally admitted that positive nanoparticles are more uptaken by cells than neutral or negative nanoparticles. It is supposedly due to favorable electrostatic interactions with negatively charged cell membrane. However, this theory seems too simplistic as it does not consider a fundamental element: the nanoparticle protein corona. Indeed, once introduced in a biological medium nanoparticles adsorb proteins at their surface, forming a new interface defining the nanoparticle \"biological identity\". This adds a new level of complexity in the interactions with biological systems that cannot be any more limited to electrostatic binding. These interactions will then influence cell behavior. Based on a literature review and on an example of our own experience the parameters involved in the nanoparticle protein corona formation as well as in the nanoparticle/cell interactions are discussed.'],\n",
      "                          'CopyrightInformation': 'Copyright © 2016 Elsevier B.V. All rights reserved.'},\n",
      "             'ArticleDate': [{'Day': '09',\n",
      "                              'Month': '09',\n",
      "                              'Year': '2016'}],\n",
      "             'ArticleTitle': 'Preferential binding of positive nanoparticles on cell membranes is due to electrostatic interactions: A too simplistic explanation that does not take into account the nanoparticle protein corona.',\n",
      "             'AuthorList': ListElement([DictElement({'AffiliationInfo': [{'Identifier': [], 'Affiliation': 'Ecole Nationale Supérieure des Mines de Saint-Etienne, CIS-EMSE, SAINBIOSE, F-42023 Saint Etienne, France; INSERM, U1059, F-42023 Saint Etienne, France; Université de Lyon, F-69000 Lyon, France. Electronic address: vforest@emse.fr.'}], 'Identifier': [], 'LastName': 'Forest', 'ForeName': 'Valérie', 'Initials': 'V'}, attributes={'ValidYN': 'Y'}), DictElement({'AffiliationInfo': [{'Identifier': [], 'Affiliation': 'Ecole Nationale Supérieure des Mines de Saint-Etienne, CIS-EMSE, SAINBIOSE, F-42023 Saint Etienne, France; INSERM, U1059, F-42023 Saint Etienne, France; Université de Lyon, F-69000 Lyon, France.'}], 'Identifier': [], 'LastName': 'Pourchez', 'ForeName': 'Jérémie', 'Initials': 'J'}, attributes={'ValidYN': 'Y'})], attributes={'CompleteYN': 'Y'}),\n",
      "             'ELocationID': [StringElement('S0928-4931(16)31189-4', attributes={'EIdType': 'pii', 'ValidYN': 'Y'}),\n",
      "                             StringElement('10.1016/j.msec.2016.09.016', attributes={'EIdType': 'doi', 'ValidYN': 'Y'})],\n",
      "             'Journal': {'ISOAbbreviation': 'Mater Sci Eng C Mater Biol Appl',\n",
      "                         'ISSN': StringElement('1873-0191', attributes={'IssnType': 'Electronic'}),\n",
      "                         'JournalIssue': {'Issue': 'Pt 1',\n",
      "                                          'PubDate': {'Day': '01',\n",
      "                                                      'Month': 'Jan',\n",
      "                                                      'Year': '2017'},\n",
      "                                          'Volume': '70'},\n",
      "                         'Title': 'Materials science & engineering. C, Materials for biological applications'},\n",
      "             'Language': ['eng'],\n",
      "             'Pagination': {'MedlinePgn': '889-896'},\n",
      "             'PublicationTypeList': [StringElement('Journal Article', attributes={'UI': 'D016428'}), StringElement('Review', attributes={'UI': 'D016454'})]},\n",
      " 'ChemicalList': [{'RegistryNumber': '0', 'NameOfSubstance': StringElement('Protein Corona', attributes={'UI': 'D000066970'})}],\n",
      " 'CitationSubset': ['IM'],\n",
      " 'DateCompleted': {'Year': '2017', 'Month': '04', 'Day': '17'},\n",
      " 'DateRevised': {'Year': '2017', 'Month': '04', 'Day': '17'},\n",
      " 'GeneralNote': [],\n",
      " 'KeywordList': [ListElement([StringElement('Cellular uptake', attributes={'MajorTopicYN': 'Y'}), StringElement('Nanoparticle', attributes={'MajorTopicYN': 'Y'}), StringElement('Nanoparticle/cell interaction', attributes={'MajorTopicYN': 'Y'}), StringElement('Protein corona', attributes={'MajorTopicYN': 'Y'})], attributes={'Owner': 'NOTNLM'})],\n",
      " 'MedlineJournalInfo': {'Country': 'Netherlands',\n",
      "                        'ISSNLinking': '0928-4931',\n",
      "                        'MedlineTA': 'Mater Sci Eng C Mater Biol Appl',\n",
      "                        'NlmUniqueID': '101484109'},\n",
      " 'MeshHeadingList': [{'QualifierName': [], 'DescriptorName': StringElement('Animals', attributes={'UI': 'D000818', 'MajorTopicYN': 'N'})}, {'QualifierName': [StringElement('metabolism', attributes={'UI': 'Q000378', 'MajorTopicYN': 'Y'})], 'DescriptorName': StringElement('Cell Membrane', attributes={'UI': 'D002462', 'MajorTopicYN': 'N'})}, {'QualifierName': [], 'DescriptorName': StringElement('Humans', attributes={'UI': 'D006801', 'MajorTopicYN': 'N'})}, {'QualifierName': [StringElement('chemistry', attributes={'UI': 'Q000737', 'MajorTopicYN': 'Y'})], 'DescriptorName': StringElement('Nanoparticles', attributes={'UI': 'D053758', 'MajorTopicYN': 'N'})}, {'QualifierName': [StringElement('chemistry', attributes={'UI': 'Q000737', 'MajorTopicYN': 'Y'})], 'DescriptorName': StringElement('Protein Corona', attributes={'UI': 'D000066970', 'MajorTopicYN': 'N'})}, {'QualifierName': [], 'DescriptorName': StringElement('Static Electricity', attributes={'UI': 'D055672', 'MajorTopicYN': 'Y'})}],\n",
      " 'OtherAbstract': [],\n",
      " 'OtherID': [],\n",
      " 'PMID': StringElement('27770966', attributes={'Version': '1'}),\n",
      " 'SpaceFlightMission': []}\n"
     ]
    }
   ],
   "source": [
    "pprint.pprint(papers['PubmedArticle'][0]['MedlineCitation'])"
   ]
  },
  {
   "cell_type": "code",
   "execution_count": null,
   "metadata": {},
   "outputs": [],
   "source": []
  }
 ],
 "metadata": {
  "kernelspec": {
   "display_name": "Python 3",
   "language": "python",
   "name": "python3"
  },
  "language_info": {
   "codemirror_mode": {
    "name": "ipython",
    "version": 3
   },
   "file_extension": ".py",
   "mimetype": "text/x-python",
   "name": "python",
   "nbconvert_exporter": "python",
   "pygments_lexer": "ipython3",
   "version": "3.7.3"
  }
 },
 "nbformat": 4,
 "nbformat_minor": 2
}
